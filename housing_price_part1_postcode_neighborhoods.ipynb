{
  "nbformat": 4,
  "nbformat_minor": 0,
  "metadata": {
    "colab": {
      "name": "housing_price-part1-postcode_neighborhoods.ipynb",
      "provenance": [],
      "authorship_tag": "ABX9TyOkgjyKAfiDzJbJHkmx8o4/",
      "include_colab_link": true
    },
    "kernelspec": {
      "name": "python3",
      "display_name": "Python 3"
    },
    "language_info": {
      "name": "python"
    }
  },
  "cells": [
    {
      "cell_type": "markdown",
      "metadata": {
        "id": "view-in-github",
        "colab_type": "text"
      },
      "source": [
        "<a href=\"https://colab.research.google.com/github/Mia-Tay/collab_housing/blob/main/housing_price_part1_postcode_neighborhoods.ipynb\" target=\"_parent\"><img src=\"https://colab.research.google.com/assets/colab-badge.svg\" alt=\"Open In Colab\"/></a>"
      ]
    },
    {
      "cell_type": "code",
      "metadata": {
        "colab": {
          "base_uri": "https://localhost:8080/"
        },
        "id": "I9lUZ_ua4Qjt",
        "outputId": "b9c4b3d8-7576-4f4a-c207-3e4bd6a79f73"
      },
      "source": [
        "from google.colab import drive\n",
        "drive.mount('/content/drive')\n",
        "folder= 'drive/My Drive/learning/'"
      ],
      "execution_count": null,
      "outputs": [
        {
          "output_type": "stream",
          "text": [
            "Mounted at /content/drive\n"
          ],
          "name": "stdout"
        }
      ]
    },
    {
      "cell_type": "code",
      "metadata": {
        "id": "LU6kvlgJ4e5x"
      },
      "source": [
        "import pandas as pd\n",
        "import requests\n",
        "import time\n"
      ],
      "execution_count": null,
      "outputs": []
    },
    {
      "cell_type": "code",
      "metadata": {
        "colab": {
          "base_uri": "https://localhost:8080/",
          "height": 205
        },
        "id": "xiRJLkaQ4m4u",
        "outputId": "170afb95-90c6-469f-c486-01dc7df9a287"
      },
      "source": [
        "df = pd.read_csv(folder+'Geospatial_data.csv').copy()\n",
        "df.head()"
      ],
      "execution_count": null,
      "outputs": [
        {
          "output_type": "execute_result",
          "data": {
            "text/html": [
              "<div>\n",
              "<style scoped>\n",
              "    .dataframe tbody tr th:only-of-type {\n",
              "        vertical-align: middle;\n",
              "    }\n",
              "\n",
              "    .dataframe tbody tr th {\n",
              "        vertical-align: top;\n",
              "    }\n",
              "\n",
              "    .dataframe thead th {\n",
              "        text-align: right;\n",
              "    }\n",
              "</style>\n",
              "<table border=\"1\" class=\"dataframe\">\n",
              "  <thead>\n",
              "    <tr style=\"text-align: right;\">\n",
              "      <th></th>\n",
              "      <th>Postal Code</th>\n",
              "      <th>Latitude</th>\n",
              "      <th>Longitude</th>\n",
              "    </tr>\n",
              "  </thead>\n",
              "  <tbody>\n",
              "    <tr>\n",
              "      <th>0</th>\n",
              "      <td>M1B</td>\n",
              "      <td>43.806686</td>\n",
              "      <td>-79.194353</td>\n",
              "    </tr>\n",
              "    <tr>\n",
              "      <th>1</th>\n",
              "      <td>M1C</td>\n",
              "      <td>43.784535</td>\n",
              "      <td>-79.160497</td>\n",
              "    </tr>\n",
              "    <tr>\n",
              "      <th>2</th>\n",
              "      <td>M1E</td>\n",
              "      <td>43.763573</td>\n",
              "      <td>-79.188711</td>\n",
              "    </tr>\n",
              "    <tr>\n",
              "      <th>3</th>\n",
              "      <td>M1G</td>\n",
              "      <td>43.770992</td>\n",
              "      <td>-79.216917</td>\n",
              "    </tr>\n",
              "    <tr>\n",
              "      <th>4</th>\n",
              "      <td>M1H</td>\n",
              "      <td>43.773136</td>\n",
              "      <td>-79.239476</td>\n",
              "    </tr>\n",
              "  </tbody>\n",
              "</table>\n",
              "</div>"
            ],
            "text/plain": [
              "  Postal Code   Latitude  Longitude\n",
              "0         M1B  43.806686 -79.194353\n",
              "1         M1C  43.784535 -79.160497\n",
              "2         M1E  43.763573 -79.188711\n",
              "3         M1G  43.770992 -79.216917\n",
              "4         M1H  43.773136 -79.239476"
            ]
          },
          "metadata": {
            "tags": []
          },
          "execution_count": 4
        }
      ]
    },
    {
      "cell_type": "code",
      "metadata": {
        "colab": {
          "base_uri": "https://localhost:8080/"
        },
        "id": "RaYjzyyY-CsM",
        "outputId": "2257ca03-16d9-4d61-9f61-1c157ae00225"
      },
      "source": [
        "len(df)"
      ],
      "execution_count": null,
      "outputs": [
        {
          "output_type": "execute_result",
          "data": {
            "text/plain": [
              "103"
            ]
          },
          "metadata": {
            "tags": []
          },
          "execution_count": 5
        }
      ]
    },
    {
      "cell_type": "code",
      "metadata": {
        "id": "p_revzVP44u2"
      },
      "source": [
        "#Call city API and find intersection's corresponding neighborhood\n",
        "\n",
        "for i in range(len(df)):\n",
        "    time.sleep(0.3)\n",
        "\n",
        "    lan = df.iloc[i]['Latitude']\n",
        "    lng = df.iloc[i]['Longitude']\n",
        "    r = requests.get(\n",
        "        f'https://gis.toronto.ca/arcgis/rest/services/primary/cot_geospatial_webm/MapServer/265/query?where=&text=&objectIds=&time=&geometry={lng}%2C{lan}&geometryType=esriGeometryPoint&inSR=4326&spatialRel=esriSpatialRelWithin&relationParam=&outFields=AREA_ID%2CAREA_SHORT_CODE%2CAREA_NAME&returnGeometry=false&maxAllowableOffset=&geometryPrecision=&outSR=3857&returnIdsOnly=false&returnCountOnly=false&orderByFields=&groupByFieldsForStatistics=&outStatistics=&returnZ=false&returnM=false&gdbVersion=&returnDistinctValues=false&returnTrueCurves=false&resultOffset=&resultRecordCount=&f=pjson')\n",
        "\n",
        "    retry_counter = 5\n",
        "    # if code not 200 (4xx or 5xx) -try again, if content almost empty -try again\n",
        "    while (len(r.content) < 5 and retry_counter > 0) or (r.status_code != 200 and retry_counter > 0):\n",
        "        print(\"HIT ERROR, RETRYING\", retry_counter)\n",
        "        time.sleep(0.3)\n",
        "        retry_counter = retry_counter - 1\n",
        "        r = requests.get(\n",
        "            f'https://gis.toronto.ca/arcgis/rest/services/primary/cot_geospatial_webm/MapServer/265/query?where=&text=&objectIds=&time=&geometry={lng}%2C{lan}&geometryType=esriGeometryPoint&inSR=4326&spatialRel=esriSpatialRelWithin&relationParam=&outFields=AREA_ID%2CAREA_SHORT_CODE%2CAREA_NAME&returnGeometry=false&maxAllowableOffset=&geometryPrecision=&outSR=3857&returnIdsOnly=false&returnCountOnly=false&orderByFields=&groupByFieldsForStatistics=&outStatistics=&returnZ=false&returnM=false&gdbVersion=&returnDistinctValues=false&returnTrueCurves=false&resultOffset=&resultRecordCount=&f=pjson')\n",
        "\n",
        "    if (len(r.content) < 5 or r.status_code != 200):\n",
        "        print('SORRY, NOTHING WORKS')\n",
        "        continue\n",
        "    result = r.json()\n",
        "    print(result)\n",
        "    if len(result['features']) > 0:\n",
        "        area_name = result['features'][0]['attributes'].get('AREA_NAME')\n",
        "    else:\n",
        "        area_name = \"Not Found\"\n",
        "    df.loc[i, 'hoods'] = area_name\n",
        "    print('i', i, 'area_name', area_name, 'content', result)\n",
        "df.to_csv(folder+'postcode_neighborhoods.csv')\n"
      ],
      "execution_count": null,
      "outputs": []
    },
    {
      "cell_type": "code",
      "metadata": {
        "id": "bFpncPBl_S1A"
      },
      "source": [
        "df.to_csv(folder+'postcode_neighborhoods.csv')"
      ],
      "execution_count": null,
      "outputs": []
    }
  ]
}