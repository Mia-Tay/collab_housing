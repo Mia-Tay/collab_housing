{
  "nbformat": 4,
  "nbformat_minor": 0,
  "metadata": {
    "colab": {
      "name": "housing_analysis_part3.ipynb",
      "provenance": [],
      "collapsed_sections": [],
      "authorship_tag": "ABX9TyPdQcQHX/v+qkREh37mHxRO",
      "include_colab_link": true
    },
    "kernelspec": {
      "name": "python3",
      "display_name": "Python 3"
    },
    "language_info": {
      "name": "python"
    }
  },
  "cells": [
    {
      "cell_type": "markdown",
      "metadata": {
        "id": "view-in-github",
        "colab_type": "text"
      },
      "source": [
        "<a href=\"https://colab.research.google.com/github/Mia-Tay/collab_housing/blob/main/housing_analysis_part3.ipynb\" target=\"_parent\"><img src=\"https://colab.research.google.com/assets/colab-badge.svg\" alt=\"Open In Colab\"/></a>"
      ]
    },
    {
      "cell_type": "code",
      "metadata": {
        "id": "xFXPvz55a8K_",
        "colab": {
          "base_uri": "https://localhost:8080/"
        },
        "outputId": "85083f19-22e6-4374-aebc-a21ff0f24f09"
      },
      "source": [
        "\n",
        "from google.colab import drive\n",
        "drive.mount('/content/drive')\n",
        "folder= 'drive/My Drive/learning/'\n"
      ],
      "execution_count": null,
      "outputs": [
        {
          "output_type": "stream",
          "text": [
            "Mounted at /content/drive\n"
          ],
          "name": "stdout"
        }
      ]
    },
    {
      "cell_type": "code",
      "metadata": {
        "id": "cdGNoBa-bGWG"
      },
      "source": [
        "import pandas as pd\n",
        "import numpy as np\n",
        "\n",
        "pd.set_option('display.max_columns', None)\n",
        "pd.set_option('display.max_rows', None)\n",
        "pd.set_option(\"display.expand_frame_repr\", False)"
      ],
      "execution_count": null,
      "outputs": []
    },
    {
      "cell_type": "markdown",
      "metadata": {
        "id": "A9AjXfnMaEAH"
      },
      "source": [
        "#Explotory Data Analysis\n"
      ]
    },
    {
      "cell_type": "code",
      "metadata": {
        "id": "Vzh3TQ4_bt-S",
        "colab": {
          "base_uri": "https://localhost:8080/",
          "height": 484
        },
        "outputId": "51145779-14b4-40c8-cf8d-c03ea9f810fe"
      },
      "source": [
        "data = pd.read_csv(folder +'housing_data.csv').copy()\n",
        "data.head()"
      ],
      "execution_count": null,
      "outputs": [
        {
          "output_type": "execute_result",
          "data": {
            "text/html": [
              "<div>\n",
              "<style scoped>\n",
              "    .dataframe tbody tr th:only-of-type {\n",
              "        vertical-align: middle;\n",
              "    }\n",
              "\n",
              "    .dataframe tbody tr th {\n",
              "        vertical-align: top;\n",
              "    }\n",
              "\n",
              "    .dataframe thead th {\n",
              "        text-align: right;\n",
              "    }\n",
              "</style>\n",
              "<table border=\"1\" class=\"dataframe\">\n",
              "  <thead>\n",
              "    <tr style=\"text-align: right;\">\n",
              "      <th></th>\n",
              "      <th>Unnamed: 0</th>\n",
              "      <th>id</th>\n",
              "      <th>square-footage-min</th>\n",
              "      <th>square-footage-max</th>\n",
              "      <th>bedrooms</th>\n",
              "      <th>bathrooms</th>\n",
              "      <th>postal-code</th>\n",
              "      <th>unit-number</th>\n",
              "      <th>street-number</th>\n",
              "      <th>street-name</th>\n",
              "      <th>sold-price</th>\n",
              "      <th>style-name</th>\n",
              "      <th>lon</th>\n",
              "      <th>lat</th>\n",
              "      <th>area-code</th>\n",
              "      <th>Postal Code</th>\n",
              "      <th>hoods</th>\n",
              "      <th>hoodId</th>\n",
              "      <th>Hood#</th>\n",
              "      <th>Total Population</th>\n",
              "      <th>% of owner households spending 30% or more of household total income on shelter costs</th>\n",
              "      <th>Average monthly shelter costs for rented dwellings ($)</th>\n",
              "      <th>Average after-tax family income $ (Family income in 2010 of economic families)</th>\n",
              "      <th>Household income in 2010 of private households</th>\n",
              "      <th>Median household total income $</th>\n",
              "      <th>minority_perc</th>\n",
              "      <th>South Asian%</th>\n",
              "      <th>Chinese%</th>\n",
              "      <th>Black%</th>\n",
              "      <th>west_asian%</th>\n",
              "      <th>latin_american%</th>\n",
              "      <th>unemployment%</th>\n",
              "      <th>no_college</th>\n",
              "      <th>owner%</th>\n",
              "      <th>renter%</th>\n",
              "      <th>Neighbourhood</th>\n",
              "      <th>Businesses</th>\n",
              "      <th>Child Care Spaces</th>\n",
              "      <th>Debt Risk Score</th>\n",
              "      <th>Home Prices</th>\n",
              "      <th>Local Employment</th>\n",
              "      <th>Social Assistance Recipients</th>\n",
              "    </tr>\n",
              "  </thead>\n",
              "  <tbody>\n",
              "    <tr>\n",
              "      <th>0</th>\n",
              "      <td>0</td>\n",
              "      <td>10832129.0</td>\n",
              "      <td>none</td>\n",
              "      <td>none</td>\n",
              "      <td>4</td>\n",
              "      <td>4</td>\n",
              "      <td>M2R3S7</td>\n",
              "      <td>NaN</td>\n",
              "      <td>289</td>\n",
              "      <td>Hidden Trail</td>\n",
              "      <td>1510000.0</td>\n",
              "      <td>house-detached</td>\n",
              "      <td>-79.456561</td>\n",
              "      <td>43.781358</td>\n",
              "      <td>M2R</td>\n",
              "      <td>M2R</td>\n",
              "      <td>Newtonbrook West</td>\n",
              "      <td>36.0</td>\n",
              "      <td>36.0</td>\n",
              "      <td>23050.0</td>\n",
              "      <td>34.4</td>\n",
              "      <td>1135.0</td>\n",
              "      <td>66505.0</td>\n",
              "      <td>8620.0</td>\n",
              "      <td>50150.0</td>\n",
              "      <td>0.504555</td>\n",
              "      <td>0.035358</td>\n",
              "      <td>0.080043</td>\n",
              "      <td>0.018438</td>\n",
              "      <td>0.074187</td>\n",
              "      <td>0.009761</td>\n",
              "      <td>0.050976</td>\n",
              "      <td>0.095662</td>\n",
              "      <td>0.567285</td>\n",
              "      <td>0.432715</td>\n",
              "      <td>Newtonbrook West</td>\n",
              "      <td>483.0</td>\n",
              "      <td>98.0</td>\n",
              "      <td>737.0</td>\n",
              "      <td>557468.0</td>\n",
              "      <td>9091.0</td>\n",
              "      <td>2124.0</td>\n",
              "    </tr>\n",
              "    <tr>\n",
              "      <th>1</th>\n",
              "      <td>1</td>\n",
              "      <td>10831810.0</td>\n",
              "      <td>600</td>\n",
              "      <td>699</td>\n",
              "      <td>1</td>\n",
              "      <td>1</td>\n",
              "      <td>M6R1V5</td>\n",
              "      <td>601</td>\n",
              "      <td>36</td>\n",
              "      <td>Howard Park Ave</td>\n",
              "      <td>735888.0</td>\n",
              "      <td>condo-highrise</td>\n",
              "      <td>-79.449861</td>\n",
              "      <td>43.652121</td>\n",
              "      <td>M6R</td>\n",
              "      <td>M6R</td>\n",
              "      <td>High Park-Swansea</td>\n",
              "      <td>87.0</td>\n",
              "      <td>87.0</td>\n",
              "      <td>21750.0</td>\n",
              "      <td>26.4</td>\n",
              "      <td>1053.0</td>\n",
              "      <td>116465.0</td>\n",
              "      <td>9850.0</td>\n",
              "      <td>72286.0</td>\n",
              "      <td>0.157931</td>\n",
              "      <td>0.028046</td>\n",
              "      <td>0.033793</td>\n",
              "      <td>0.023678</td>\n",
              "      <td>0.002759</td>\n",
              "      <td>0.016322</td>\n",
              "      <td>0.040000</td>\n",
              "      <td>0.070805</td>\n",
              "      <td>0.606599</td>\n",
              "      <td>0.393401</td>\n",
              "      <td>High Park-Swansea</td>\n",
              "      <td>448.0</td>\n",
              "      <td>229.0</td>\n",
              "      <td>770.0</td>\n",
              "      <td>622206.0</td>\n",
              "      <td>6594.0</td>\n",
              "      <td>1680.0</td>\n",
              "    </tr>\n",
              "    <tr>\n",
              "      <th>2</th>\n",
              "      <td>2</td>\n",
              "      <td>10246007.0</td>\n",
              "      <td>none</td>\n",
              "      <td>none</td>\n",
              "      <td>4</td>\n",
              "      <td>6</td>\n",
              "      <td>M3H1Z6</td>\n",
              "      <td>NaN</td>\n",
              "      <td>77</td>\n",
              "      <td>Invermay Ave</td>\n",
              "      <td>2777000.0</td>\n",
              "      <td>house-detached</td>\n",
              "      <td>-79.441798</td>\n",
              "      <td>43.739834</td>\n",
              "      <td>M3H</td>\n",
              "      <td>M3H</td>\n",
              "      <td>Clanton Park</td>\n",
              "      <td>33.0</td>\n",
              "      <td>33.0</td>\n",
              "      <td>14610.0</td>\n",
              "      <td>24.7</td>\n",
              "      <td>938.0</td>\n",
              "      <td>89550.0</td>\n",
              "      <td>5535.0</td>\n",
              "      <td>61094.0</td>\n",
              "      <td>0.342916</td>\n",
              "      <td>0.025667</td>\n",
              "      <td>0.018823</td>\n",
              "      <td>0.037988</td>\n",
              "      <td>0.003080</td>\n",
              "      <td>0.014031</td>\n",
              "      <td>0.041752</td>\n",
              "      <td>0.127652</td>\n",
              "      <td>0.528455</td>\n",
              "      <td>0.471545</td>\n",
              "      <td>Clanton Park</td>\n",
              "      <td>357.0</td>\n",
              "      <td>130.0</td>\n",
              "      <td>740.0</td>\n",
              "      <td>605585.0</td>\n",
              "      <td>5011.0</td>\n",
              "      <td>734.0</td>\n",
              "    </tr>\n",
              "    <tr>\n",
              "      <th>3</th>\n",
              "      <td>3</td>\n",
              "      <td>10879683.0</td>\n",
              "      <td>1500</td>\n",
              "      <td>2000</td>\n",
              "      <td>4</td>\n",
              "      <td>3</td>\n",
              "      <td>M9L2C4</td>\n",
              "      <td>NaN</td>\n",
              "      <td>54</td>\n",
              "      <td>Duncanwoods Dr</td>\n",
              "      <td>945000.0</td>\n",
              "      <td>house-semidetached</td>\n",
              "      <td>-79.559905</td>\n",
              "      <td>43.750705</td>\n",
              "      <td>M9L</td>\n",
              "      <td>M9L</td>\n",
              "      <td>Humber Summit</td>\n",
              "      <td>21.0</td>\n",
              "      <td>21.0</td>\n",
              "      <td>12530.0</td>\n",
              "      <td>29.2</td>\n",
              "      <td>907.0</td>\n",
              "      <td>65757.0</td>\n",
              "      <td>3790.0</td>\n",
              "      <td>57786.0</td>\n",
              "      <td>0.585794</td>\n",
              "      <td>0.317638</td>\n",
              "      <td>0.005188</td>\n",
              "      <td>0.095371</td>\n",
              "      <td>0.026736</td>\n",
              "      <td>0.044294</td>\n",
              "      <td>0.051476</td>\n",
              "      <td>0.298883</td>\n",
              "      <td>0.724274</td>\n",
              "      <td>0.275726</td>\n",
              "      <td>Humber Summit</td>\n",
              "      <td>1373.0</td>\n",
              "      <td>53.0</td>\n",
              "      <td>715.0</td>\n",
              "      <td>354381.0</td>\n",
              "      <td>17950.0</td>\n",
              "      <td>1659.0</td>\n",
              "    </tr>\n",
              "    <tr>\n",
              "      <th>4</th>\n",
              "      <td>4</td>\n",
              "      <td>10871687.0</td>\n",
              "      <td>600</td>\n",
              "      <td>699</td>\n",
              "      <td>1</td>\n",
              "      <td>1</td>\n",
              "      <td>M5V4A2</td>\n",
              "      <td>809</td>\n",
              "      <td>215</td>\n",
              "      <td>Fort York Blvd</td>\n",
              "      <td>611000.0</td>\n",
              "      <td>condo-highrise</td>\n",
              "      <td>-79.404535</td>\n",
              "      <td>43.636346</td>\n",
              "      <td>M5V</td>\n",
              "      <td>M5V</td>\n",
              "      <td>Waterfront Communities-The Island</td>\n",
              "      <td>77.0</td>\n",
              "      <td>77.0</td>\n",
              "      <td>43365.0</td>\n",
              "      <td>37.2</td>\n",
              "      <td>1417.0</td>\n",
              "      <td>95004.0</td>\n",
              "      <td>26990.0</td>\n",
              "      <td>69107.0</td>\n",
              "      <td>0.402283</td>\n",
              "      <td>0.086014</td>\n",
              "      <td>0.117030</td>\n",
              "      <td>0.050847</td>\n",
              "      <td>0.020062</td>\n",
              "      <td>0.020869</td>\n",
              "      <td>0.038626</td>\n",
              "      <td>0.037588</td>\n",
              "      <td>0.494628</td>\n",
              "      <td>0.505372</td>\n",
              "      <td>Waterfront Communities-The Island</td>\n",
              "      <td>2899.0</td>\n",
              "      <td>130.0</td>\n",
              "      <td>748.0</td>\n",
              "      <td>416759.0</td>\n",
              "      <td>88058.0</td>\n",
              "      <td>2864.0</td>\n",
              "    </tr>\n",
              "  </tbody>\n",
              "</table>\n",
              "</div>"
            ],
            "text/plain": [
              "   Unnamed: 0          id square-footage-min square-footage-max  bedrooms  bathrooms postal-code unit-number street-number      street-name  sold-price          style-name        lon        lat area-code Postal Code                               hoods  hoodId  Hood#  Total Population  % of owner households spending 30% or more of household total income on shelter costs  Average monthly shelter costs for rented dwellings ($)  Average after-tax family income $ (Family income in 2010 of economic families)  Household income in 2010 of private households  Median household total income $  minority_perc  South Asian%  Chinese%    Black%  west_asian%  latin_american%  unemployment%  no_college    owner%   renter%                      Neighbourhood  Businesses  Child Care Spaces  Debt Risk Score  Home Prices  Local Employment  Social Assistance Recipients\n",
              "0           0  10832129.0               none               none         4          4      M2R3S7         NaN           289     Hidden Trail   1510000.0      house-detached -79.456561  43.781358       M2R         M2R                   Newtonbrook West     36.0   36.0           23050.0                                               34.4                                                                                 1135.0                                                 66505.0                                                                       8620.0                          50150.0       0.504555      0.035358  0.080043  0.018438     0.074187         0.009761       0.050976    0.095662  0.567285  0.432715                   Newtonbrook West       483.0               98.0            737.0     557468.0            9091.0                        2124.0\n",
              "1           1  10831810.0                600                699         1          1      M6R1V5         601            36  Howard Park Ave    735888.0      condo-highrise -79.449861  43.652121       M6R         M6R                  High Park-Swansea     87.0   87.0           21750.0                                               26.4                                                                                 1053.0                                                116465.0                                                                       9850.0                          72286.0       0.157931      0.028046  0.033793  0.023678     0.002759         0.016322       0.040000    0.070805  0.606599  0.393401                  High Park-Swansea       448.0              229.0            770.0     622206.0            6594.0                        1680.0\n",
              "2           2  10246007.0               none               none         4          6      M3H1Z6         NaN            77     Invermay Ave   2777000.0      house-detached -79.441798  43.739834       M3H         M3H                       Clanton Park     33.0   33.0           14610.0                                               24.7                                                                                  938.0                                                 89550.0                                                                       5535.0                          61094.0       0.342916      0.025667  0.018823  0.037988     0.003080         0.014031       0.041752    0.127652  0.528455  0.471545                       Clanton Park       357.0              130.0            740.0     605585.0            5011.0                         734.0\n",
              "3           3  10879683.0               1500               2000         4          3      M9L2C4         NaN            54   Duncanwoods Dr    945000.0  house-semidetached -79.559905  43.750705       M9L         M9L                      Humber Summit     21.0   21.0           12530.0                                               29.2                                                                                  907.0                                                 65757.0                                                                       3790.0                          57786.0       0.585794      0.317638  0.005188  0.095371     0.026736         0.044294       0.051476    0.298883  0.724274  0.275726                      Humber Summit      1373.0               53.0            715.0     354381.0           17950.0                        1659.0\n",
              "4           4  10871687.0                600                699         1          1      M5V4A2         809           215   Fort York Blvd    611000.0      condo-highrise -79.404535  43.636346       M5V         M5V  Waterfront Communities-The Island     77.0   77.0           43365.0                                               37.2                                                                                 1417.0                                                 95004.0                                                                      26990.0                          69107.0       0.402283      0.086014  0.117030  0.050847     0.020062         0.020869       0.038626    0.037588  0.494628  0.505372  Waterfront Communities-The Island      2899.0              130.0            748.0     416759.0           88058.0                        2864.0"
            ]
          },
          "metadata": {
            "tags": []
          },
          "execution_count": 3
        }
      ]
    },
    {
      "cell_type": "code",
      "metadata": {
        "id": "q2cTdqe0gqrK",
        "colab": {
          "base_uri": "https://localhost:8080/"
        },
        "outputId": "9efb81a4-585c-4843-ad47-c4a942c9fae0"
      },
      "source": [
        "data.columns"
      ],
      "execution_count": null,
      "outputs": [
        {
          "output_type": "execute_result",
          "data": {
            "text/plain": [
              "Index(['Unnamed: 0', 'id', 'square-footage-min', 'square-footage-max',\n",
              "       'bedrooms', 'bathrooms', 'postal-code', 'unit-number', 'street-number',\n",
              "       'street-name', 'sold-price', 'style-name', 'lon', 'lat', 'area-code',\n",
              "       'Postal Code', 'hoods', 'hoodId', 'Hood#', 'Total Population',\n",
              "       '% of owner households spending 30% or more of household total income on shelter costs',\n",
              "       'Average monthly shelter costs for rented dwellings ($)',\n",
              "       'Average after-tax family income $ (Family income in 2010 of economic families)',\n",
              "       'Household income in 2010 of private households',\n",
              "       'Median household total income $', 'minority_perc', 'South Asian%',\n",
              "       'Chinese%', 'Black%', 'west_asian%', 'latin_american%', 'unemployment%',\n",
              "       'no_college', 'owner%', 'renter%', 'Neighbourhood', 'Businesses',\n",
              "       'Child Care Spaces', 'Debt Risk Score', 'Home Prices',\n",
              "       'Local Employment', 'Social Assistance Recipients'],\n",
              "      dtype='object')"
            ]
          },
          "metadata": {
            "tags": []
          },
          "execution_count": 4
        }
      ]
    },
    {
      "cell_type": "code",
      "metadata": {
        "id": "GAWYRFq6iGW1"
      },
      "source": [
        "data = data[data['style-name']!='vacant-land']"
      ],
      "execution_count": null,
      "outputs": []
    },
    {
      "cell_type": "code",
      "metadata": {
        "id": "VgGjvXYHh5rB",
        "colab": {
          "base_uri": "https://localhost:8080/"
        },
        "outputId": "c92a2276-3def-4d9d-a50c-4e5a449fb66d"
      },
      "source": [
        "data['style-name'].value_counts()"
      ],
      "execution_count": null,
      "outputs": [
        {
          "output_type": "execute_result",
          "data": {
            "text/plain": [
              "condo-highrise        468\n",
              "house-detached        392\n",
              "house-semidetached    136\n",
              "townhouse             110\n",
              "condo-lowrise          52\n",
              "house-attached         49\n",
              "condo-other             8\n",
              "Name: style-name, dtype: int64"
            ]
          },
          "metadata": {
            "tags": []
          },
          "execution_count": 6
        }
      ]
    },
    {
      "cell_type": "code",
      "metadata": {
        "id": "r6e0CR-NvvAn"
      },
      "source": [
        "data_condo = data[data['style-name']=='condo'].copy()"
      ],
      "execution_count": null,
      "outputs": []
    },
    {
      "cell_type": "code",
      "metadata": {
        "id": "HAiAZWSawuXX",
        "colab": {
          "base_uri": "https://localhost:8080/",
          "height": 224
        },
        "outputId": "50d33dee-84f5-477a-e0b6-18f82b22deb9"
      },
      "source": [
        "data_condo[data_condo['unit-number'].map(len)>4]"
      ],
      "execution_count": null,
      "outputs": [
        {
          "output_type": "execute_result",
          "data": {
            "text/html": [
              "<div>\n",
              "<style scoped>\n",
              "    .dataframe tbody tr th:only-of-type {\n",
              "        vertical-align: middle;\n",
              "    }\n",
              "\n",
              "    .dataframe tbody tr th {\n",
              "        vertical-align: top;\n",
              "    }\n",
              "\n",
              "    .dataframe thead th {\n",
              "        text-align: right;\n",
              "    }\n",
              "</style>\n",
              "<table border=\"1\" class=\"dataframe\">\n",
              "  <thead>\n",
              "    <tr style=\"text-align: right;\">\n",
              "      <th></th>\n",
              "      <th>Unnamed: 0</th>\n",
              "      <th>id</th>\n",
              "      <th>square-footage-min</th>\n",
              "      <th>square-footage-max</th>\n",
              "      <th>bedrooms</th>\n",
              "      <th>bathrooms</th>\n",
              "      <th>postal-code</th>\n",
              "      <th>unit-number</th>\n",
              "      <th>street-number</th>\n",
              "      <th>street-name</th>\n",
              "      <th>sold-price</th>\n",
              "      <th>style-name</th>\n",
              "      <th>lon</th>\n",
              "      <th>lat</th>\n",
              "      <th>area-code</th>\n",
              "      <th>Postal Code</th>\n",
              "      <th>hoods</th>\n",
              "      <th>hoodId</th>\n",
              "      <th>Hood#</th>\n",
              "      <th>Total Population</th>\n",
              "      <th>% of owner households spending 30% or more of household total income on shelter costs</th>\n",
              "      <th>Average monthly shelter costs for rented dwellings ($)</th>\n",
              "      <th>Average after-tax family income $ (Family income in 2010 of economic families)</th>\n",
              "      <th>Household income in 2010 of private households</th>\n",
              "      <th>Median household total income $</th>\n",
              "      <th>minority_perc</th>\n",
              "      <th>South Asian%</th>\n",
              "      <th>Chinese%</th>\n",
              "      <th>Black%</th>\n",
              "      <th>west_asian%</th>\n",
              "      <th>latin_american%</th>\n",
              "      <th>unemployment%</th>\n",
              "      <th>no_college</th>\n",
              "      <th>owner%</th>\n",
              "      <th>renter%</th>\n",
              "      <th>Neighbourhood</th>\n",
              "      <th>Businesses</th>\n",
              "      <th>Child Care Spaces</th>\n",
              "      <th>Debt Risk Score</th>\n",
              "      <th>Home Prices</th>\n",
              "      <th>Local Employment</th>\n",
              "      <th>Social Assistance Recipients</th>\n",
              "    </tr>\n",
              "  </thead>\n",
              "  <tbody>\n",
              "  </tbody>\n",
              "</table>\n",
              "</div>"
            ],
            "text/plain": [
              "Empty DataFrame\n",
              "Columns: [Unnamed: 0, id, square-footage-min, square-footage-max, bedrooms, bathrooms, postal-code, unit-number, street-number, street-name, sold-price, style-name, lon, lat, area-code, Postal Code, hoods, hoodId, Hood#, Total Population, % of owner households spending 30% or more of household total income on shelter costs, Average monthly shelter costs for rented dwellings ($), Average after-tax family income $ (Family income in 2010 of economic families), Household income in 2010 of private households, Median household total income $, minority_perc, South Asian%, Chinese%, Black%, west_asian%, latin_american%, unemployment%, no_college, owner%, renter%, Neighbourhood, Businesses, Child Care Spaces, Debt Risk Score, Home Prices, Local Employment, Social Assistance Recipients]\n",
              "Index: []"
            ]
          },
          "metadata": {
            "tags": []
          },
          "execution_count": 8
        }
      ]
    },
    {
      "cell_type": "code",
      "metadata": {
        "id": "K9EHDUZu0Zbh",
        "colab": {
          "base_uri": "https://localhost:8080/",
          "height": 224
        },
        "outputId": "46b015da-a920-4c93-ae2c-9d10940ad369"
      },
      "source": [
        "#listings that with unit number that only got 1 or 2 digit. put 5 to replace it as there are only two listings\n",
        "#listings that contains ph or other character\n",
        "#listings that contain 'lower'\n",
        "#listing with bad format like '621 e'\n",
        "data_condo['floor#'] = data_condo['unit-number'].apply(lambda x:'ph' if 'ph' in x else x[0:-2])\n",
        "data_condo.head()\n"
      ],
      "execution_count": null,
      "outputs": [
        {
          "output_type": "execute_result",
          "data": {
            "text/html": [
              "<div>\n",
              "<style scoped>\n",
              "    .dataframe tbody tr th:only-of-type {\n",
              "        vertical-align: middle;\n",
              "    }\n",
              "\n",
              "    .dataframe tbody tr th {\n",
              "        vertical-align: top;\n",
              "    }\n",
              "\n",
              "    .dataframe thead th {\n",
              "        text-align: right;\n",
              "    }\n",
              "</style>\n",
              "<table border=\"1\" class=\"dataframe\">\n",
              "  <thead>\n",
              "    <tr style=\"text-align: right;\">\n",
              "      <th></th>\n",
              "      <th>Unnamed: 0</th>\n",
              "      <th>id</th>\n",
              "      <th>square-footage-min</th>\n",
              "      <th>square-footage-max</th>\n",
              "      <th>bedrooms</th>\n",
              "      <th>bathrooms</th>\n",
              "      <th>postal-code</th>\n",
              "      <th>unit-number</th>\n",
              "      <th>street-number</th>\n",
              "      <th>street-name</th>\n",
              "      <th>sold-price</th>\n",
              "      <th>style-name</th>\n",
              "      <th>lon</th>\n",
              "      <th>lat</th>\n",
              "      <th>area-code</th>\n",
              "      <th>Postal Code</th>\n",
              "      <th>hoods</th>\n",
              "      <th>hoodId</th>\n",
              "      <th>Hood#</th>\n",
              "      <th>Total Population</th>\n",
              "      <th>% of owner households spending 30% or more of household total income on shelter costs</th>\n",
              "      <th>Average monthly shelter costs for rented dwellings ($)</th>\n",
              "      <th>Average after-tax family income $ (Family income in 2010 of economic families)</th>\n",
              "      <th>Household income in 2010 of private households</th>\n",
              "      <th>Median household total income $</th>\n",
              "      <th>minority_perc</th>\n",
              "      <th>South Asian%</th>\n",
              "      <th>Chinese%</th>\n",
              "      <th>Black%</th>\n",
              "      <th>west_asian%</th>\n",
              "      <th>latin_american%</th>\n",
              "      <th>unemployment%</th>\n",
              "      <th>no_college</th>\n",
              "      <th>owner%</th>\n",
              "      <th>renter%</th>\n",
              "      <th>Neighbourhood</th>\n",
              "      <th>Businesses</th>\n",
              "      <th>Child Care Spaces</th>\n",
              "      <th>Debt Risk Score</th>\n",
              "      <th>Home Prices</th>\n",
              "      <th>Local Employment</th>\n",
              "      <th>Social Assistance Recipients</th>\n",
              "      <th>floor#</th>\n",
              "    </tr>\n",
              "  </thead>\n",
              "  <tbody>\n",
              "  </tbody>\n",
              "</table>\n",
              "</div>"
            ],
            "text/plain": [
              "Empty DataFrame\n",
              "Columns: [Unnamed: 0, id, square-footage-min, square-footage-max, bedrooms, bathrooms, postal-code, unit-number, street-number, street-name, sold-price, style-name, lon, lat, area-code, Postal Code, hoods, hoodId, Hood#, Total Population, % of owner households spending 30% or more of household total income on shelter costs, Average monthly shelter costs for rented dwellings ($), Average after-tax family income $ (Family income in 2010 of economic families), Household income in 2010 of private households, Median household total income $, minority_perc, South Asian%, Chinese%, Black%, west_asian%, latin_american%, unemployment%, no_college, owner%, renter%, Neighbourhood, Businesses, Child Care Spaces, Debt Risk Score, Home Prices, Local Employment, Social Assistance Recipients, floor#]\n",
              "Index: []"
            ]
          },
          "metadata": {
            "tags": []
          },
          "execution_count": 9
        }
      ]
    },
    {
      "cell_type": "code",
      "metadata": {
        "id": "oT9AtT5gSnw5",
        "colab": {
          "base_uri": "https://localhost:8080/"
        },
        "outputId": "0c336bfd-78b5-43b1-d559-e50eae1fc861"
      },
      "source": [
        "data.columns"
      ],
      "execution_count": null,
      "outputs": [
        {
          "output_type": "execute_result",
          "data": {
            "text/plain": [
              "Index(['Unnamed: 0', 'id', 'square-footage-min', 'square-footage-max',\n",
              "       'bedrooms', 'bathrooms', 'postal-code', 'unit-number', 'street-number',\n",
              "       'street-name', 'sold-price', 'style-name', 'lon', 'lat', 'area-code',\n",
              "       'Postal Code', 'hoods', 'hoodId', 'Hood#', 'Total Population',\n",
              "       '% of owner households spending 30% or more of household total income on shelter costs',\n",
              "       'Average monthly shelter costs for rented dwellings ($)',\n",
              "       'Average after-tax family income $ (Family income in 2010 of economic families)',\n",
              "       'Household income in 2010 of private households',\n",
              "       'Median household total income $', 'minority_perc', 'South Asian%',\n",
              "       'Chinese%', 'Black%', 'west_asian%', 'latin_american%', 'unemployment%',\n",
              "       'no_college', 'owner%', 'renter%', 'Neighbourhood', 'Businesses',\n",
              "       'Child Care Spaces', 'Debt Risk Score', 'Home Prices',\n",
              "       'Local Employment', 'Social Assistance Recipients'],\n",
              "      dtype='object')"
            ]
          },
          "metadata": {
            "tags": []
          },
          "execution_count": 10
        }
      ]
    },
    {
      "cell_type": "code",
      "metadata": {
        "id": "Ky6C1mjUT3NV"
      },
      "source": [
        "#create df_housing, only keep wanted features\n",
        "df_housing = data[['id', 'area-code','bedrooms',\n",
        "       'bathrooms', 'sold-price', 'style-name',\n",
        "       'lon', 'lat', 'Total Population',\n",
        "       '% of owner households spending 30% or more of household total income on shelter costs',\n",
        "       'Average after-tax family income $ (Family income in 2010 of economic families)',\n",
        "       'Median household total income $', 'minority_perc','unemployment%',\n",
        "       'no_college', 'owner%', 'Businesses', 'Child Care Spaces',\n",
        "       'Home Prices', 'Social Assistance Recipients']].copy()"
      ],
      "execution_count": null,
      "outputs": []
    },
    {
      "cell_type": "code",
      "metadata": {
        "id": "8TOXm_wLVbB8"
      },
      "source": [
        "#rename long column names\n",
        "df_housing.rename(columns={'% of owner households spending 30% or more of household total income on shelter costs':'% of unaffordable shelter cost', 'Average after-tax family income $ (Family income in 2010 of economic families)':'after-tax family income'}, inplace= True)"
      ],
      "execution_count": null,
      "outputs": []
    },
    {
      "cell_type": "code",
      "metadata": {
        "id": "CnQrZfovWH2O",
        "colab": {
          "base_uri": "https://localhost:8080/",
          "height": 363
        },
        "outputId": "b5150bee-8884-487e-ed1e-40797494ca46"
      },
      "source": [
        "df_housing.head()"
      ],
      "execution_count": null,
      "outputs": [
        {
          "output_type": "execute_result",
          "data": {
            "text/html": [
              "<div>\n",
              "<style scoped>\n",
              "    .dataframe tbody tr th:only-of-type {\n",
              "        vertical-align: middle;\n",
              "    }\n",
              "\n",
              "    .dataframe tbody tr th {\n",
              "        vertical-align: top;\n",
              "    }\n",
              "\n",
              "    .dataframe thead th {\n",
              "        text-align: right;\n",
              "    }\n",
              "</style>\n",
              "<table border=\"1\" class=\"dataframe\">\n",
              "  <thead>\n",
              "    <tr style=\"text-align: right;\">\n",
              "      <th></th>\n",
              "      <th>id</th>\n",
              "      <th>area-code</th>\n",
              "      <th>bedrooms</th>\n",
              "      <th>bathrooms</th>\n",
              "      <th>sold-price</th>\n",
              "      <th>style-name</th>\n",
              "      <th>lon</th>\n",
              "      <th>lat</th>\n",
              "      <th>Total Population</th>\n",
              "      <th>% of unaffordable shelter cost</th>\n",
              "      <th>after-tax family income</th>\n",
              "      <th>Median household total income $</th>\n",
              "      <th>minority_perc</th>\n",
              "      <th>unemployment%</th>\n",
              "      <th>no_college</th>\n",
              "      <th>owner%</th>\n",
              "      <th>Businesses</th>\n",
              "      <th>Child Care Spaces</th>\n",
              "      <th>Home Prices</th>\n",
              "      <th>Social Assistance Recipients</th>\n",
              "    </tr>\n",
              "  </thead>\n",
              "  <tbody>\n",
              "    <tr>\n",
              "      <th>0</th>\n",
              "      <td>10832129.0</td>\n",
              "      <td>M2R</td>\n",
              "      <td>4</td>\n",
              "      <td>4</td>\n",
              "      <td>1510000.0</td>\n",
              "      <td>house-detached</td>\n",
              "      <td>-79.456561</td>\n",
              "      <td>43.781358</td>\n",
              "      <td>23050.0</td>\n",
              "      <td>34.4</td>\n",
              "      <td>66505.0</td>\n",
              "      <td>50150.0</td>\n",
              "      <td>0.504555</td>\n",
              "      <td>0.050976</td>\n",
              "      <td>0.095662</td>\n",
              "      <td>0.567285</td>\n",
              "      <td>483.0</td>\n",
              "      <td>98.0</td>\n",
              "      <td>557468.0</td>\n",
              "      <td>2124.0</td>\n",
              "    </tr>\n",
              "    <tr>\n",
              "      <th>1</th>\n",
              "      <td>10831810.0</td>\n",
              "      <td>M6R</td>\n",
              "      <td>1</td>\n",
              "      <td>1</td>\n",
              "      <td>735888.0</td>\n",
              "      <td>condo-highrise</td>\n",
              "      <td>-79.449861</td>\n",
              "      <td>43.652121</td>\n",
              "      <td>21750.0</td>\n",
              "      <td>26.4</td>\n",
              "      <td>116465.0</td>\n",
              "      <td>72286.0</td>\n",
              "      <td>0.157931</td>\n",
              "      <td>0.040000</td>\n",
              "      <td>0.070805</td>\n",
              "      <td>0.606599</td>\n",
              "      <td>448.0</td>\n",
              "      <td>229.0</td>\n",
              "      <td>622206.0</td>\n",
              "      <td>1680.0</td>\n",
              "    </tr>\n",
              "    <tr>\n",
              "      <th>2</th>\n",
              "      <td>10246007.0</td>\n",
              "      <td>M3H</td>\n",
              "      <td>4</td>\n",
              "      <td>6</td>\n",
              "      <td>2777000.0</td>\n",
              "      <td>house-detached</td>\n",
              "      <td>-79.441798</td>\n",
              "      <td>43.739834</td>\n",
              "      <td>14610.0</td>\n",
              "      <td>24.7</td>\n",
              "      <td>89550.0</td>\n",
              "      <td>61094.0</td>\n",
              "      <td>0.342916</td>\n",
              "      <td>0.041752</td>\n",
              "      <td>0.127652</td>\n",
              "      <td>0.528455</td>\n",
              "      <td>357.0</td>\n",
              "      <td>130.0</td>\n",
              "      <td>605585.0</td>\n",
              "      <td>734.0</td>\n",
              "    </tr>\n",
              "    <tr>\n",
              "      <th>3</th>\n",
              "      <td>10879683.0</td>\n",
              "      <td>M9L</td>\n",
              "      <td>4</td>\n",
              "      <td>3</td>\n",
              "      <td>945000.0</td>\n",
              "      <td>house-semidetached</td>\n",
              "      <td>-79.559905</td>\n",
              "      <td>43.750705</td>\n",
              "      <td>12530.0</td>\n",
              "      <td>29.2</td>\n",
              "      <td>65757.0</td>\n",
              "      <td>57786.0</td>\n",
              "      <td>0.585794</td>\n",
              "      <td>0.051476</td>\n",
              "      <td>0.298883</td>\n",
              "      <td>0.724274</td>\n",
              "      <td>1373.0</td>\n",
              "      <td>53.0</td>\n",
              "      <td>354381.0</td>\n",
              "      <td>1659.0</td>\n",
              "    </tr>\n",
              "    <tr>\n",
              "      <th>4</th>\n",
              "      <td>10871687.0</td>\n",
              "      <td>M5V</td>\n",
              "      <td>1</td>\n",
              "      <td>1</td>\n",
              "      <td>611000.0</td>\n",
              "      <td>condo-highrise</td>\n",
              "      <td>-79.404535</td>\n",
              "      <td>43.636346</td>\n",
              "      <td>43365.0</td>\n",
              "      <td>37.2</td>\n",
              "      <td>95004.0</td>\n",
              "      <td>69107.0</td>\n",
              "      <td>0.402283</td>\n",
              "      <td>0.038626</td>\n",
              "      <td>0.037588</td>\n",
              "      <td>0.494628</td>\n",
              "      <td>2899.0</td>\n",
              "      <td>130.0</td>\n",
              "      <td>416759.0</td>\n",
              "      <td>2864.0</td>\n",
              "    </tr>\n",
              "  </tbody>\n",
              "</table>\n",
              "</div>"
            ],
            "text/plain": [
              "           id area-code  bedrooms  bathrooms  sold-price          style-name        lon        lat  Total Population  % of unaffordable shelter cost  after-tax family income  Median household total income $  minority_perc  unemployment%  no_college    owner%  Businesses  Child Care Spaces  Home Prices  Social Assistance Recipients\n",
              "0  10832129.0       M2R         4          4   1510000.0      house-detached -79.456561  43.781358           23050.0                            34.4                  66505.0                          50150.0       0.504555       0.050976    0.095662  0.567285       483.0               98.0     557468.0                        2124.0\n",
              "1  10831810.0       M6R         1          1    735888.0      condo-highrise -79.449861  43.652121           21750.0                            26.4                 116465.0                          72286.0       0.157931       0.040000    0.070805  0.606599       448.0              229.0     622206.0                        1680.0\n",
              "2  10246007.0       M3H         4          6   2777000.0      house-detached -79.441798  43.739834           14610.0                            24.7                  89550.0                          61094.0       0.342916       0.041752    0.127652  0.528455       357.0              130.0     605585.0                         734.0\n",
              "3  10879683.0       M9L         4          3    945000.0  house-semidetached -79.559905  43.750705           12530.0                            29.2                  65757.0                          57786.0       0.585794       0.051476    0.298883  0.724274      1373.0               53.0     354381.0                        1659.0\n",
              "4  10871687.0       M5V         1          1    611000.0      condo-highrise -79.404535  43.636346           43365.0                            37.2                  95004.0                          69107.0       0.402283       0.038626    0.037588  0.494628      2899.0              130.0     416759.0                        2864.0"
            ]
          },
          "metadata": {
            "tags": []
          },
          "execution_count": 13
        }
      ]
    },
    {
      "cell_type": "code",
      "metadata": {
        "id": "iU8N16pjW3d1"
      },
      "source": [
        "#find out median sold price based on area\n",
        "median_prices = df_housing.groupby(['area-code'])['sold-price'].median().reset_index()\n",
        "median_prices.columns=['area-code', 'median-price']\n"
      ],
      "execution_count": null,
      "outputs": []
    },
    {
      "cell_type": "code",
      "metadata": {
        "id": "zggmV0vt3-Fr",
        "colab": {
          "base_uri": "https://localhost:8080/",
          "height": 363
        },
        "outputId": "7323f687-f637-4050-d08c-9ecb147a325f"
      },
      "source": [
        "housing = df_housing.merge(median_prices, how='left', on='area-code')\n",
        "housing.head()"
      ],
      "execution_count": null,
      "outputs": [
        {
          "output_type": "execute_result",
          "data": {
            "text/html": [
              "<div>\n",
              "<style scoped>\n",
              "    .dataframe tbody tr th:only-of-type {\n",
              "        vertical-align: middle;\n",
              "    }\n",
              "\n",
              "    .dataframe tbody tr th {\n",
              "        vertical-align: top;\n",
              "    }\n",
              "\n",
              "    .dataframe thead th {\n",
              "        text-align: right;\n",
              "    }\n",
              "</style>\n",
              "<table border=\"1\" class=\"dataframe\">\n",
              "  <thead>\n",
              "    <tr style=\"text-align: right;\">\n",
              "      <th></th>\n",
              "      <th>id</th>\n",
              "      <th>area-code</th>\n",
              "      <th>bedrooms</th>\n",
              "      <th>bathrooms</th>\n",
              "      <th>sold-price</th>\n",
              "      <th>style-name</th>\n",
              "      <th>lon</th>\n",
              "      <th>lat</th>\n",
              "      <th>Total Population</th>\n",
              "      <th>% of unaffordable shelter cost</th>\n",
              "      <th>after-tax family income</th>\n",
              "      <th>Median household total income $</th>\n",
              "      <th>minority_perc</th>\n",
              "      <th>unemployment%</th>\n",
              "      <th>no_college</th>\n",
              "      <th>owner%</th>\n",
              "      <th>Businesses</th>\n",
              "      <th>Child Care Spaces</th>\n",
              "      <th>Home Prices</th>\n",
              "      <th>Social Assistance Recipients</th>\n",
              "      <th>median-price</th>\n",
              "    </tr>\n",
              "  </thead>\n",
              "  <tbody>\n",
              "    <tr>\n",
              "      <th>0</th>\n",
              "      <td>10832129.0</td>\n",
              "      <td>M2R</td>\n",
              "      <td>4</td>\n",
              "      <td>4</td>\n",
              "      <td>1510000.0</td>\n",
              "      <td>house-detached</td>\n",
              "      <td>-79.456561</td>\n",
              "      <td>43.781358</td>\n",
              "      <td>23050.0</td>\n",
              "      <td>34.4</td>\n",
              "      <td>66505.0</td>\n",
              "      <td>50150.0</td>\n",
              "      <td>0.504555</td>\n",
              "      <td>0.050976</td>\n",
              "      <td>0.095662</td>\n",
              "      <td>0.567285</td>\n",
              "      <td>483.0</td>\n",
              "      <td>98.0</td>\n",
              "      <td>557468.0</td>\n",
              "      <td>2124.0</td>\n",
              "      <td>1445000.0</td>\n",
              "    </tr>\n",
              "    <tr>\n",
              "      <th>1</th>\n",
              "      <td>10831810.0</td>\n",
              "      <td>M6R</td>\n",
              "      <td>1</td>\n",
              "      <td>1</td>\n",
              "      <td>735888.0</td>\n",
              "      <td>condo-highrise</td>\n",
              "      <td>-79.449861</td>\n",
              "      <td>43.652121</td>\n",
              "      <td>21750.0</td>\n",
              "      <td>26.4</td>\n",
              "      <td>116465.0</td>\n",
              "      <td>72286.0</td>\n",
              "      <td>0.157931</td>\n",
              "      <td>0.040000</td>\n",
              "      <td>0.070805</td>\n",
              "      <td>0.606599</td>\n",
              "      <td>448.0</td>\n",
              "      <td>229.0</td>\n",
              "      <td>622206.0</td>\n",
              "      <td>1680.0</td>\n",
              "      <td>1855000.0</td>\n",
              "    </tr>\n",
              "    <tr>\n",
              "      <th>2</th>\n",
              "      <td>10246007.0</td>\n",
              "      <td>M3H</td>\n",
              "      <td>4</td>\n",
              "      <td>6</td>\n",
              "      <td>2777000.0</td>\n",
              "      <td>house-detached</td>\n",
              "      <td>-79.441798</td>\n",
              "      <td>43.739834</td>\n",
              "      <td>14610.0</td>\n",
              "      <td>24.7</td>\n",
              "      <td>89550.0</td>\n",
              "      <td>61094.0</td>\n",
              "      <td>0.342916</td>\n",
              "      <td>0.041752</td>\n",
              "      <td>0.127652</td>\n",
              "      <td>0.528455</td>\n",
              "      <td>357.0</td>\n",
              "      <td>130.0</td>\n",
              "      <td>605585.0</td>\n",
              "      <td>734.0</td>\n",
              "      <td>1400000.0</td>\n",
              "    </tr>\n",
              "    <tr>\n",
              "      <th>3</th>\n",
              "      <td>10879683.0</td>\n",
              "      <td>M9L</td>\n",
              "      <td>4</td>\n",
              "      <td>3</td>\n",
              "      <td>945000.0</td>\n",
              "      <td>house-semidetached</td>\n",
              "      <td>-79.559905</td>\n",
              "      <td>43.750705</td>\n",
              "      <td>12530.0</td>\n",
              "      <td>29.2</td>\n",
              "      <td>65757.0</td>\n",
              "      <td>57786.0</td>\n",
              "      <td>0.585794</td>\n",
              "      <td>0.051476</td>\n",
              "      <td>0.298883</td>\n",
              "      <td>0.724274</td>\n",
              "      <td>1373.0</td>\n",
              "      <td>53.0</td>\n",
              "      <td>354381.0</td>\n",
              "      <td>1659.0</td>\n",
              "      <td>952500.0</td>\n",
              "    </tr>\n",
              "    <tr>\n",
              "      <th>4</th>\n",
              "      <td>10871687.0</td>\n",
              "      <td>M5V</td>\n",
              "      <td>1</td>\n",
              "      <td>1</td>\n",
              "      <td>611000.0</td>\n",
              "      <td>condo-highrise</td>\n",
              "      <td>-79.404535</td>\n",
              "      <td>43.636346</td>\n",
              "      <td>43365.0</td>\n",
              "      <td>37.2</td>\n",
              "      <td>95004.0</td>\n",
              "      <td>69107.0</td>\n",
              "      <td>0.402283</td>\n",
              "      <td>0.038626</td>\n",
              "      <td>0.037588</td>\n",
              "      <td>0.494628</td>\n",
              "      <td>2899.0</td>\n",
              "      <td>130.0</td>\n",
              "      <td>416759.0</td>\n",
              "      <td>2864.0</td>\n",
              "      <td>672000.0</td>\n",
              "    </tr>\n",
              "  </tbody>\n",
              "</table>\n",
              "</div>"
            ],
            "text/plain": [
              "           id area-code  bedrooms  bathrooms  sold-price          style-name        lon        lat  Total Population  % of unaffordable shelter cost  after-tax family income  Median household total income $  minority_perc  unemployment%  no_college    owner%  Businesses  Child Care Spaces  Home Prices  Social Assistance Recipients  median-price\n",
              "0  10832129.0       M2R         4          4   1510000.0      house-detached -79.456561  43.781358           23050.0                            34.4                  66505.0                          50150.0       0.504555       0.050976    0.095662  0.567285       483.0               98.0     557468.0                        2124.0     1445000.0\n",
              "1  10831810.0       M6R         1          1    735888.0      condo-highrise -79.449861  43.652121           21750.0                            26.4                 116465.0                          72286.0       0.157931       0.040000    0.070805  0.606599       448.0              229.0     622206.0                        1680.0     1855000.0\n",
              "2  10246007.0       M3H         4          6   2777000.0      house-detached -79.441798  43.739834           14610.0                            24.7                  89550.0                          61094.0       0.342916       0.041752    0.127652  0.528455       357.0              130.0     605585.0                         734.0     1400000.0\n",
              "3  10879683.0       M9L         4          3    945000.0  house-semidetached -79.559905  43.750705           12530.0                            29.2                  65757.0                          57786.0       0.585794       0.051476    0.298883  0.724274      1373.0               53.0     354381.0                        1659.0      952500.0\n",
              "4  10871687.0       M5V         1          1    611000.0      condo-highrise -79.404535  43.636346           43365.0                            37.2                  95004.0                          69107.0       0.402283       0.038626    0.037588  0.494628      2899.0              130.0     416759.0                        2864.0      672000.0"
            ]
          },
          "metadata": {
            "tags": []
          },
          "execution_count": 15
        }
      ]
    },
    {
      "cell_type": "code",
      "metadata": {
        "id": "tU5J0QDC6_vA",
        "colab": {
          "base_uri": "https://localhost:8080/"
        },
        "outputId": "16e18242-aea8-45a9-e9db-2b2d4b340fdc"
      },
      "source": [
        "#check info again before building models or processing\n",
        "housing.info()"
      ],
      "execution_count": null,
      "outputs": [
        {
          "output_type": "stream",
          "text": [
            "<class 'pandas.core.frame.DataFrame'>\n",
            "Int64Index: 1215 entries, 0 to 1214\n",
            "Data columns (total 21 columns):\n",
            " #   Column                           Non-Null Count  Dtype  \n",
            "---  ------                           --------------  -----  \n",
            " 0   id                               1215 non-null   float64\n",
            " 1   area-code                        1215 non-null   object \n",
            " 2   bedrooms                         1215 non-null   int64  \n",
            " 3   bathrooms                        1215 non-null   int64  \n",
            " 4   sold-price                       1215 non-null   float64\n",
            " 5   style-name                       1215 non-null   object \n",
            " 6   lon                              1215 non-null   float64\n",
            " 7   lat                              1215 non-null   float64\n",
            " 8   Total Population                 1203 non-null   float64\n",
            " 9   % of unaffordable shelter cost   1203 non-null   float64\n",
            " 10  after-tax family income          1203 non-null   float64\n",
            " 11  Median household total income $  1203 non-null   float64\n",
            " 12  minority_perc                    1203 non-null   float64\n",
            " 13  unemployment%                    1203 non-null   float64\n",
            " 14  no_college                       1203 non-null   float64\n",
            " 15  owner%                           1203 non-null   float64\n",
            " 16  Businesses                       1203 non-null   float64\n",
            " 17  Child Care Spaces                1203 non-null   float64\n",
            " 18  Home Prices                      1203 non-null   float64\n",
            " 19  Social Assistance Recipients     1203 non-null   float64\n",
            " 20  median-price                     1215 non-null   float64\n",
            "dtypes: float64(17), int64(2), object(2)\n",
            "memory usage: 208.8+ KB\n"
          ],
          "name": "stdout"
        }
      ]
    },
    {
      "cell_type": "code",
      "metadata": {
        "colab": {
          "base_uri": "https://localhost:8080/",
          "height": 578
        },
        "id": "T1JBqdSunQle",
        "outputId": "846508af-aceb-4daa-c4d6-6b5f83a4f395"
      },
      "source": [
        "#create correlation heatmap\n",
        "import seaborn as sns\n",
        "from matplotlib import pyplot as plt\n",
        "mask = np.triu(np.ones_like(housing.corr(), dtype=np.bool))\n",
        "\n",
        "plt.figure(figsize=(6,6))\n",
        "\n",
        "heatmap = sns.heatmap(housing.corr(), mask=mask, vmin=-1, vmax=1)\n",
        "heatmap.set_title('Correlation Heatmap', fontdict={'fontsize':18}, pad=16)"
      ],
      "execution_count": null,
      "outputs": [
        {
          "output_type": "execute_result",
          "data": {
            "text/plain": [
              "Text(0.5, 1.0, 'Correlation Heatmap')"
            ]
          },
          "metadata": {
            "tags": []
          },
          "execution_count": 17
        },
        {
          "output_type": "display_data",
          "data": {
            "image/png": "[encoded data removed]",
            "text/plain": [
              "<Figure size 432x432 with 2 Axes>"
            ]
          },
          "metadata": {
            "tags": [],
            "needs_background": "light"
          }
        }
      ]
    },
    {
      "cell_type": "code",
      "metadata": {
        "id": "bhNYa64d7PLS"
      },
      "source": [
        "import seaborn as sns\n",
        "from matplotlib import pyplot as plt\n"
      ],
      "execution_count": null,
      "outputs": []
    },
    {
      "cell_type": "code",
      "metadata": {
        "id": "oP3_wCto7T9y",
        "colab": {
          "base_uri": "https://localhost:8080/",
          "height": 729
        },
        "outputId": "b2077efc-1e1d-42be-d0bb-666edd4d57cd"
      },
      "source": [
        "housing.hist(figsize=(12,12))\n",
        "plt.show()"
      ],
      "execution_count": null,
      "outputs": [
        {
          "output_type": "display_data",
          "data": {
            "image/png": "[encoded data removed]",
            "text/plain": [
              "<Figure size 864x864 with 20 Axes>"
            ]
          },
          "metadata": {
            "tags": [],
            "needs_background": "light"
          }
        }
      ]
    },
    {
      "cell_type": "code",
      "metadata": {
        "colab": {
          "base_uri": "https://localhost:8080/",
          "height": 279
        },
        "id": "4Akq2CXksQtf",
        "outputId": "2ffa2cc2-6f06-4dbb-fe33-0d99aac7cdc9"
      },
      "source": [
        "sns.scatterplot(x='lon', y='lat', data=housing, hue='sold-price', size='Total Population')\n",
        "plt.legend(bbox_to_anchor=(1.05, 1), loc=2, borderaxespad=0.)\n",
        "plt.show()"
      ],
      "execution_count": null,
      "outputs": [
        {
          "output_type": "display_data",
          "data": {
            "image/png": "[encoded data removed]",
            "text/plain": [
              "<Figure size 432x288 with 1 Axes>"
            ]
          },
          "metadata": {
            "tags": [],
            "needs_background": "light"
          }
        }
      ]
    },
    {
      "cell_type": "code",
      "metadata": {
        "id": "S5Ff5XCvGo4O",
        "colab": {
          "base_uri": "https://localhost:8080/"
        },
        "outputId": "bf1deec2-1dad-458d-aff2-00e61d6d007f"
      },
      "source": [
        "#check correlation\n",
        "#standard correlation coefficient (also called Pearson’s r) between every pair of attributes\n",
        "housing_test = housing.drop(columns=['Home Prices','after-tax family income', 'id', 'lat', 'lon'])\n",
        "corr_matrix = housing_test.corr()\n",
        "corr_matrix[\"sold-price\"].sort_values(ascending=False)"
      ],
      "execution_count": null,
      "outputs": [
        {
          "output_type": "execute_result",
          "data": {
            "text/plain": [
              "sold-price                         1.000000\n",
              "bathrooms                          0.741890\n",
              "bedrooms                           0.585015\n",
              "median-price                       0.572213\n",
              "Median household total income $    0.372572\n",
              "owner%                             0.105310\n",
              "Child Care Spaces                 -0.001691\n",
              "no_college                        -0.164055\n",
              "Businesses                        -0.179256\n",
              "Total Population                  -0.218556\n",
              "unemployment%                     -0.285283\n",
              "% of unaffordable shelter cost    -0.310117\n",
              "minority_perc                     -0.323125\n",
              "Social Assistance Recipients      -0.336451\n",
              "Name: sold-price, dtype: float64"
            ]
          },
          "metadata": {
            "tags": []
          },
          "execution_count": 21
        }
      ]
    },
    {
      "cell_type": "code",
      "metadata": {
        "id": "h4n9ElH9JbIo"
      },
      "source": [
        "# too large to run, comment out for official\n",
        "# attributes = ['median-price', 'Median household total income $','bathrooms', 'bedrooms']\n",
        "# sns.pairplot(housing_test[attributes])\n",
        "# plt.show()"
      ],
      "execution_count": null,
      "outputs": []
    },
    {
      "cell_type": "markdown",
      "metadata": {
        "id": "et_W5U9JM1I6"
      },
      "source": [
        "note from the book: The new bedrooms_per_room attribute is much more correlated with the median house value than the total number of rooms or bedrooms. Apparently houses with a lower bedroom/room ratio tend to be more expensive. The number of rooms per household is also more informative than the total number of rooms in a district—obviously the larger the houses, the more expensive they are."
      ]
    },
    {
      "cell_type": "code",
      "metadata": {
        "id": "rIS6RFmwZ8BD"
      },
      "source": [
        "# too large to run, comment out for official\n",
        "# too large to run, comment out for official\n",
        "# sns.pairplot(housing_test)\n",
        "# plt.show()"
      ],
      "execution_count": null,
      "outputs": []
    },
    {
      "cell_type": "markdown",
      "metadata": {
        "id": "M9Tr71WlZ-Fm"
      },
      "source": [
        "#Data cleaning\n",
        "\n",
        "\n",
        "*   machine learning algorithm doesn't work with missing data well\n",
        "*   List item\n",
        "\n"
      ]
    },
    {
      "cell_type": "code",
      "metadata": {
        "id": "nOmw5XztZ9qQ",
        "colab": {
          "base_uri": "https://localhost:8080/"
        },
        "outputId": "a462d3c6-3b17-4368-8a0a-b8e33b6edf40"
      },
      "source": [
        "housing.info()"
      ],
      "execution_count": null,
      "outputs": [
        {
          "output_type": "stream",
          "text": [
            "<class 'pandas.core.frame.DataFrame'>\n",
            "Int64Index: 1215 entries, 0 to 1214\n",
            "Data columns (total 21 columns):\n",
            " #   Column                           Non-Null Count  Dtype  \n",
            "---  ------                           --------------  -----  \n",
            " 0   id                               1215 non-null   float64\n",
            " 1   area-code                        1215 non-null   object \n",
            " 2   bedrooms                         1215 non-null   int64  \n",
            " 3   bathrooms                        1215 non-null   int64  \n",
            " 4   sold-price                       1215 non-null   float64\n",
            " 5   style-name                       1215 non-null   object \n",
            " 6   lon                              1215 non-null   float64\n",
            " 7   lat                              1215 non-null   float64\n",
            " 8   Total Population                 1203 non-null   float64\n",
            " 9   % of unaffordable shelter cost   1203 non-null   float64\n",
            " 10  after-tax family income          1203 non-null   float64\n",
            " 11  Median household total income $  1203 non-null   float64\n",
            " 12  minority_perc                    1203 non-null   float64\n",
            " 13  unemployment%                    1203 non-null   float64\n",
            " 14  no_college                       1203 non-null   float64\n",
            " 15  owner%                           1203 non-null   float64\n",
            " 16  Businesses                       1203 non-null   float64\n",
            " 17  Child Care Spaces                1203 non-null   float64\n",
            " 18  Home Prices                      1203 non-null   float64\n",
            " 19  Social Assistance Recipients     1203 non-null   float64\n",
            " 20  median-price                     1215 non-null   float64\n",
            "dtypes: float64(17), int64(2), object(2)\n",
            "memory usage: 208.8+ KB\n"
          ],
          "name": "stdout"
        }
      ]
    },
    {
      "cell_type": "markdown",
      "metadata": {
        "id": "82h550dZYr_T"
      },
      "source": [
        "Seperate Train Test data, making sure test data with similar distrubution of income\n"
      ]
    },
    {
      "cell_type": "code",
      "metadata": {
        "id": "NNLuanJhbLHQ",
        "colab": {
          "base_uri": "https://localhost:8080/",
          "height": 295
        },
        "outputId": "b13000d4-da13-4485-d557-06c2a58337f1"
      },
      "source": [
        "housing['median-price'].hist()"
      ],
      "execution_count": null,
      "outputs": [
        {
          "output_type": "execute_result",
          "data": {
            "text/plain": [
              "<matplotlib.axes._subplots.AxesSubplot at 0x7f59112e6150>"
            ]
          },
          "metadata": {
            "tags": []
          },
          "execution_count": 25
        },
        {
          "output_type": "display_data",
          "data": {
            "image/png": "[encoded data removed]",
            "text/plain": [
              "<Figure size 432x288 with 1 Axes>"
            ]
          },
          "metadata": {
            "tags": [],
            "needs_background": "light"
          }
        }
      ]
    },
    {
      "cell_type": "code",
      "metadata": {
        "id": "jeCZGjormjEW",
        "colab": {
          "base_uri": "https://localhost:8080/"
        },
        "outputId": "61c957ba-0940-4ba1-a10b-060091743c75"
      },
      "source": [
        "housing['median-price'].value_counts(sort=True)"
      ],
      "execution_count": null,
      "outputs": [
        {
          "output_type": "execute_result",
          "data": {
            "text/plain": [
              "672000.0     72\n",
              "1400000.0    49\n",
              "753150.0     48\n",
              "720400.0     42\n",
              "765000.0     37\n",
              "1100000.0    36\n",
              "840000.0     29\n",
              "790000.0     29\n",
              "1200000.0    28\n",
              "722500.0     26\n",
              "825000.0     25\n",
              "1388000.0    25\n",
              "950000.0     22\n",
              "679000.0     22\n",
              "1187500.0    20\n",
              "720000.0     19\n",
              "1050000.0    19\n",
              "822500.0     18\n",
              "641000.0     17\n",
              "1445000.0    16\n",
              "1325000.0    16\n",
              "998944.0     16\n",
              "681500.0     16\n",
              "633500.0     16\n",
              "867500.0     16\n",
              "980000.0     15\n",
              "2090000.0    14\n",
              "650000.0     14\n",
              "851250.0     14\n",
              "1517500.0    14\n",
              "708750.0     14\n",
              "1505000.0    14\n",
              "1167500.0    14\n",
              "2495000.0    13\n",
              "775000.0     13\n",
              "1030000.0    13\n",
              "2553000.0    13\n",
              "2150000.0    13\n",
              "1250000.0    13\n",
              "830000.0     12\n",
              "1262500.0    12\n",
              "1376500.0    12\n",
              "1290000.0    12\n",
              "1226500.0    12\n",
              "756000.0     11\n",
              "617000.0     11\n",
              "1170000.0    11\n",
              "1855000.0    11\n",
              "689000.0     11\n",
              "987500.0     10\n",
              "752500.0     10\n",
              "1063000.0    10\n",
              "726500.0     10\n",
              "900000.0      9\n",
              "570000.0      9\n",
              "951000.0      9\n",
              "925000.0      9\n",
              "3150000.0     8\n",
              "545000.0      8\n",
              "1070000.0     8\n",
              "891000.0      7\n",
              "540000.0      7\n",
              "1515000.0     7\n",
              "1147500.0     6\n",
              "645000.0      6\n",
              "735000.0      6\n",
              "1237500.0     6\n",
              "1310000.0     6\n",
              "2342500.0     6\n",
              "2219016.5     6\n",
              "1280000.0     5\n",
              "835000.0      5\n",
              "1075000.0     5\n",
              "630000.0      5\n",
              "910000.0      5\n",
              "2180000.0     5\n",
              "590000.0      5\n",
              "952500.0      4\n",
              "627500.0      4\n",
              "1997500.0     4\n",
              "1285500.0     4\n",
              "580000.0      4\n",
              "3850000.0     3\n",
              "1970888.0     3\n",
              "956000.0      3\n",
              "870000.0      2\n",
              "1970000.0     1\n",
              "Name: median-price, dtype: int64"
            ]
          },
          "metadata": {
            "tags": []
          },
          "execution_count": 26
        }
      ]
    },
    {
      "cell_type": "code",
      "metadata": {
        "id": "mPLJdSl5Y261",
        "colab": {
          "base_uri": "https://localhost:8080/",
          "height": 295
        },
        "outputId": "71e1c947-a287-4556-f3ea-346915e28a1c"
      },
      "source": [
        "mbins=[0,500000,1000000,1500000,2000000, 2500000, 3000000]\n",
        "\n",
        "housing['price_cat'] = pd.cut(housing['median-price'],\n",
        "                               bins=mbins+[np.inf],\n",
        "                               labels=[x / 100000 for x in mbins])\n",
        "#labels =[0,6,7.5,9,12,16,25]\n",
        "sns.histplot(housing['price_cat'])\n",
        "plt.xlabel('House median price')\n",
        "plt.title('Histogram of median house price(100k) category')\n",
        "plt.show()\n"
      ],
      "execution_count": null,
      "outputs": [
        {
          "output_type": "display_data",
          "data": {
            "image/png": "[encoded data removed]",
            "text/plain": [
              "<Figure size 432x288 with 1 Axes>"
            ]
          },
          "metadata": {
            "tags": [],
            "needs_background": "light"
          }
        }
      ]
    },
    {
      "cell_type": "code",
      "metadata": {
        "id": "sPmXpNqwK0yu"
      },
      "source": [
        ""
      ],
      "execution_count": null,
      "outputs": []
    },
    {
      "cell_type": "code",
      "metadata": {
        "id": "hxxkS2TrfW3v"
      },
      "source": [
        "from sklearn.model_selection import StratifiedShuffleSplit\n",
        "\n",
        "model_split = StratifiedShuffleSplit(n_splits=1, test_size=0.2, random_state=42)\n",
        "check_split= model_split.split(housing, housing['price_cat'])\n",
        "for train_index, test_index in model_split.split(housing, housing['price_cat']):\n",
        "\n",
        "  strat_train_set = housing.loc[train_index]\n",
        "  strat_test_set = housing.loc[test_index]\n",
        " "
      ],
      "execution_count": null,
      "outputs": []
    },
    {
      "cell_type": "code",
      "metadata": {
        "id": "El3_RwyUK8Hz"
      },
      "source": [
        "housing.drop(columns=['price_cat'], inplace=True)\n",
        "strat_train_set.drop(columns=['price_cat'], inplace=True)\n",
        "strat_test_set.drop(columns=['price_cat'], inplace=True)"
      ],
      "execution_count": null,
      "outputs": []
    },
    {
      "cell_type": "code",
      "metadata": {
        "id": "4AFirUBLn2Oj",
        "colab": {
          "base_uri": "https://localhost:8080/",
          "height": 326
        },
        "outputId": "7b0fc450-a408-457e-fe09-199b9ec923df"
      },
      "source": [
        "strat_train_set.head()"
      ],
      "execution_count": null,
      "outputs": [
        {
          "output_type": "execute_result",
          "data": {
            "text/html": [
              "<div>\n",
              "<style scoped>\n",
              "    .dataframe tbody tr th:only-of-type {\n",
              "        vertical-align: middle;\n",
              "    }\n",
              "\n",
              "    .dataframe tbody tr th {\n",
              "        vertical-align: top;\n",
              "    }\n",
              "\n",
              "    .dataframe thead th {\n",
              "        text-align: right;\n",
              "    }\n",
              "</style>\n",
              "<table border=\"1\" class=\"dataframe\">\n",
              "  <thead>\n",
              "    <tr style=\"text-align: right;\">\n",
              "      <th></th>\n",
              "      <th>id</th>\n",
              "      <th>area-code</th>\n",
              "      <th>bedrooms</th>\n",
              "      <th>bathrooms</th>\n",
              "      <th>sold-price</th>\n",
              "      <th>style-name</th>\n",
              "      <th>lon</th>\n",
              "      <th>lat</th>\n",
              "      <th>Total Population</th>\n",
              "      <th>% of unaffordable shelter cost</th>\n",
              "      <th>after-tax family income</th>\n",
              "      <th>Median household total income $</th>\n",
              "      <th>minority_perc</th>\n",
              "      <th>unemployment%</th>\n",
              "      <th>no_college</th>\n",
              "      <th>owner%</th>\n",
              "      <th>Businesses</th>\n",
              "      <th>Child Care Spaces</th>\n",
              "      <th>Home Prices</th>\n",
              "      <th>Social Assistance Recipients</th>\n",
              "      <th>median-price</th>\n",
              "    </tr>\n",
              "  </thead>\n",
              "  <tbody>\n",
              "    <tr>\n",
              "      <th>698</th>\n",
              "      <td>10832136.0</td>\n",
              "      <td>M6S</td>\n",
              "      <td>3</td>\n",
              "      <td>4</td>\n",
              "      <td>3133333.33</td>\n",
              "      <td>house-detached</td>\n",
              "      <td>-79.498004</td>\n",
              "      <td>43.655737</td>\n",
              "      <td>9635.0</td>\n",
              "      <td>18.7</td>\n",
              "      <td>114798.0</td>\n",
              "      <td>91230.0</td>\n",
              "      <td>0.185781</td>\n",
              "      <td>0.039440</td>\n",
              "      <td>0.096523</td>\n",
              "      <td>0.772966</td>\n",
              "      <td>334.0</td>\n",
              "      <td>220.0</td>\n",
              "      <td>666204.0</td>\n",
              "      <td>251.0</td>\n",
              "      <td>1400000.0</td>\n",
              "    </tr>\n",
              "    <tr>\n",
              "      <th>410</th>\n",
              "      <td>10859947.0</td>\n",
              "      <td>M6P</td>\n",
              "      <td>3</td>\n",
              "      <td>2</td>\n",
              "      <td>1300000.00</td>\n",
              "      <td>condo-highrise</td>\n",
              "      <td>-79.468191</td>\n",
              "      <td>43.655327</td>\n",
              "      <td>14015.0</td>\n",
              "      <td>29.7</td>\n",
              "      <td>78000.0</td>\n",
              "      <td>60789.0</td>\n",
              "      <td>0.286122</td>\n",
              "      <td>0.049590</td>\n",
              "      <td>0.135926</td>\n",
              "      <td>0.590435</td>\n",
              "      <td>631.0</td>\n",
              "      <td>30.0</td>\n",
              "      <td>532997.0</td>\n",
              "      <td>1155.0</td>\n",
              "      <td>1226500.0</td>\n",
              "    </tr>\n",
              "    <tr>\n",
              "      <th>131</th>\n",
              "      <td>10837840.0</td>\n",
              "      <td>M4M</td>\n",
              "      <td>2</td>\n",
              "      <td>1</td>\n",
              "      <td>1100000.00</td>\n",
              "      <td>house-attached</td>\n",
              "      <td>-79.345082</td>\n",
              "      <td>43.664320</td>\n",
              "      <td>25640.0</td>\n",
              "      <td>27.3</td>\n",
              "      <td>83795.0</td>\n",
              "      <td>65076.0</td>\n",
              "      <td>0.444228</td>\n",
              "      <td>0.041342</td>\n",
              "      <td>0.168682</td>\n",
              "      <td>0.617784</td>\n",
              "      <td>1197.0</td>\n",
              "      <td>224.0</td>\n",
              "      <td>537087.0</td>\n",
              "      <td>2695.0</td>\n",
              "      <td>1050000.0</td>\n",
              "    </tr>\n",
              "    <tr>\n",
              "      <th>463</th>\n",
              "      <td>10842481.0</td>\n",
              "      <td>M8Z</td>\n",
              "      <td>4</td>\n",
              "      <td>4</td>\n",
              "      <td>2333172.00</td>\n",
              "      <td>house-detached</td>\n",
              "      <td>-79.510875</td>\n",
              "      <td>43.629110</td>\n",
              "      <td>38070.0</td>\n",
              "      <td>26.4</td>\n",
              "      <td>87747.0</td>\n",
              "      <td>66537.0</td>\n",
              "      <td>0.324534</td>\n",
              "      <td>0.041108</td>\n",
              "      <td>0.107171</td>\n",
              "      <td>0.612804</td>\n",
              "      <td>2263.0</td>\n",
              "      <td>204.0</td>\n",
              "      <td>491678.0</td>\n",
              "      <td>2534.0</td>\n",
              "      <td>1250000.0</td>\n",
              "    </tr>\n",
              "    <tr>\n",
              "      <th>125</th>\n",
              "      <td>10840975.0</td>\n",
              "      <td>M4V</td>\n",
              "      <td>3</td>\n",
              "      <td>5</td>\n",
              "      <td>5900000.00</td>\n",
              "      <td>house-detached</td>\n",
              "      <td>-79.393584</td>\n",
              "      <td>43.683991</td>\n",
              "      <td>11655.0</td>\n",
              "      <td>18.7</td>\n",
              "      <td>173751.0</td>\n",
              "      <td>71728.0</td>\n",
              "      <td>0.143715</td>\n",
              "      <td>0.045474</td>\n",
              "      <td>0.029172</td>\n",
              "      <td>0.386883</td>\n",
              "      <td>468.0</td>\n",
              "      <td>20.0</td>\n",
              "      <td>995616.0</td>\n",
              "      <td>283.0</td>\n",
              "      <td>2090000.0</td>\n",
              "    </tr>\n",
              "  </tbody>\n",
              "</table>\n",
              "</div>"
            ],
            "text/plain": [
              "             id area-code  bedrooms  bathrooms  sold-price      style-name        lon        lat  Total Population  % of unaffordable shelter cost  after-tax family income  Median household total income $  minority_perc  unemployment%  no_college    owner%  Businesses  Child Care Spaces  Home Prices  Social Assistance Recipients  median-price\n",
              "698  10832136.0       M6S         3          4  3133333.33  house-detached -79.498004  43.655737            9635.0                            18.7                 114798.0                          91230.0       0.185781       0.039440    0.096523  0.772966       334.0              220.0     666204.0                         251.0     1400000.0\n",
              "410  10859947.0       M6P         3          2  1300000.00  condo-highrise -79.468191  43.655327           14015.0                            29.7                  78000.0                          60789.0       0.286122       0.049590    0.135926  0.590435       631.0               30.0     532997.0                        1155.0     1226500.0\n",
              "131  10837840.0       M4M         2          1  1100000.00  house-attached -79.345082  43.664320           25640.0                            27.3                  83795.0                          65076.0       0.444228       0.041342    0.168682  0.617784      1197.0              224.0     537087.0                        2695.0     1050000.0\n",
              "463  10842481.0       M8Z         4          4  2333172.00  house-detached -79.510875  43.629110           38070.0                            26.4                  87747.0                          66537.0       0.324534       0.041108    0.107171  0.612804      2263.0              204.0     491678.0                        2534.0     1250000.0\n",
              "125  10840975.0       M4V         3          5  5900000.00  house-detached -79.393584  43.683991           11655.0                            18.7                 173751.0                          71728.0       0.143715       0.045474    0.029172  0.386883       468.0               20.0     995616.0                         283.0     2090000.0"
            ]
          },
          "metadata": {
            "tags": []
          },
          "execution_count": 30
        }
      ]
    },
    {
      "cell_type": "code",
      "metadata": {
        "id": "Y6it-zDYuZo3"
      },
      "source": [
        "housing_predictors = strat_train_set.drop(columns=['sold-price'])\n",
        "housing_label = strat_train_set['sold-price'].copy()"
      ],
      "execution_count": null,
      "outputs": []
    },
    {
      "cell_type": "markdown",
      "metadata": {
        "id": "9s0cN62FqLgd"
      },
      "source": [
        "To use simple imputer, seperate dataframe housing into num and category parts. "
      ]
    },
    {
      "cell_type": "code",
      "metadata": {
        "id": "OzO68VdKncVh"
      },
      "source": [
        "#numeric data set housing_num\n",
        "housing_num = housing_predictors.drop(columns=['id', 'area-code','style-name'])\n",
        "#categorary data set  housing_cat\n",
        "housing_cat = housing_predictors[['style-name']]"
      ],
      "execution_count": null,
      "outputs": []
    },
    {
      "cell_type": "code",
      "metadata": {
        "id": "Y1QjVKVHr5wl"
      },
      "source": [
        "from sklearn.impute import SimpleImputer\n",
        "from sklearn.pipeline import Pipeline\n",
        "from sklearn.preprocessing import StandardScaler\n",
        "\n",
        "num_pipeline = Pipeline([\n",
        "        ('imputer', SimpleImputer(strategy='mean')),\n",
        "        ('std_scaler', StandardScaler()),\n",
        "    ])"
      ],
      "execution_count": null,
      "outputs": []
    },
    {
      "cell_type": "code",
      "metadata": {
        "id": "sPISr04CsJFi"
      },
      "source": [
        "from sklearn.preprocessing import OneHotEncoder\n",
        "from sklearn.compose import ColumnTransformer\n",
        "\n",
        "num_attribs = list(housing_num)\n",
        "cat_attribs = ['style-name']\n",
        "\n",
        "full_pipeline = ColumnTransformer([\n",
        "        (\"num\", num_pipeline, num_attribs),\n",
        "        (\"cat\", OneHotEncoder(), cat_attribs),\n",
        "    ])\n",
        "\n",
        "housing_prepared = full_pipeline.fit_transform(housing_predictors) #return array\n"
      ],
      "execution_count": null,
      "outputs": []
    },
    {
      "cell_type": "code",
      "metadata": {
        "id": "IbpR9IbubvTQ",
        "colab": {
          "base_uri": "https://localhost:8080/"
        },
        "outputId": "c0f3aac3-461e-440f-9d86-79e45a1e64d7"
      },
      "source": [
        "cat_encoder = OneHotEncoder()\n",
        "housing_cat_1hot = cat_encoder.fit_transform(housing_cat)\n",
        "# as column_style_name is a list,like list[array1] so need to take out array1 from inside\n",
        "#Then transform array1 to list\n",
        "array1 = cat_encoder.categories_[0]\n",
        "encoder_column_names = array1.tolist()\n",
        "encoder_column_names"
      ],
      "execution_count": null,
      "outputs": [
        {
          "output_type": "execute_result",
          "data": {
            "text/plain": [
              "['condo-highrise',\n",
              " 'condo-lowrise',\n",
              " 'condo-other',\n",
              " 'house-attached',\n",
              " 'house-detached',\n",
              " 'house-semidetached',\n",
              " 'townhouse']"
            ]
          },
          "metadata": {
            "tags": []
          },
          "execution_count": 35
        }
      ]
    },
    {
      "cell_type": "code",
      "metadata": {
        "id": "mU0E57gsQ7zD",
        "colab": {
          "base_uri": "https://localhost:8080/"
        },
        "outputId": "c1841dd7-d464-44f3-dec1-97307690abf0"
      },
      "source": [
        "#combine original column names and encoded columns names, get features\n",
        "features = list(housing_num.columns)+ encoder_column_names\n",
        "len(features)\n"
      ],
      "execution_count": null,
      "outputs": [
        {
          "output_type": "execute_result",
          "data": {
            "text/plain": [
              "24"
            ]
          },
          "metadata": {
            "tags": []
          },
          "execution_count": 36
        }
      ]
    },
    {
      "cell_type": "markdown",
      "metadata": {
        "id": "oWjcn6azsxPc"
      },
      "source": [
        "Select and Train a Model"
      ]
    },
    {
      "cell_type": "code",
      "metadata": {
        "id": "guZ98WW5sx5e"
      },
      "source": [
        "X = housing_prepared\n",
        "y = housing_label\n"
      ],
      "execution_count": null,
      "outputs": []
    },
    {
      "cell_type": "code",
      "metadata": {
        "id": "XiDlzQuhe7ts",
        "colab": {
          "base_uri": "https://localhost:8080/"
        },
        "outputId": "4e7c79e9-e6b6-4a90-e1e5-aaf40b89ff76"
      },
      "source": [
        "X.shape"
      ],
      "execution_count": null,
      "outputs": [
        {
          "output_type": "execute_result",
          "data": {
            "text/plain": [
              "(972, 24)"
            ]
          },
          "metadata": {
            "tags": []
          },
          "execution_count": 38
        }
      ]
    },
    {
      "cell_type": "markdown",
      "metadata": {
        "id": "Q2k9NvFXHvfL"
      },
      "source": [
        "Linear Regression"
      ]
    },
    {
      "cell_type": "code",
      "metadata": {
        "id": "zBriuJWovyFa",
        "colab": {
          "base_uri": "https://localhost:8080/"
        },
        "outputId": "261eddc9-34cf-44f5-8d56-93b21898a660"
      },
      "source": [
        "import numpy as np\n",
        "from sklearn.model_selection import train_test_split\n",
        "from sklearn.linear_model import LinearRegression\n",
        "from sklearn.metrics import mean_squared_error\n",
        "from sklearn.metrics import mean_absolute_error\n",
        "from sklearn.model_selection import cross_val_score\n",
        "\n",
        "lin_reg = LinearRegression()\n",
        "lin_reg.fit(X,y)\n",
        "y_pred = lin_reg.predict(X)\n",
        "\n",
        "#cross validation get negative mean squared error\n",
        "lin_scores = cross_val_score(lin_reg,X,y, scoring='neg_mean_squared_error', cv=10)\n",
        "lin_scores_root = np.sqrt(-lin_scores)\n",
        "lin_mse_mean = lin_scores_root.mean()\n",
        "lin_mse_std = np.sqrt(lin_scores_root).std()\n",
        "print('Linear regression')\n",
        "print(f'Root_mean_squared-error {lin_mse_mean} with std of {lin_mse_std}')\n",
        "#cross validation get negative mean absolute error\n",
        "lin_mae_cv_score = cross_val_score(lin_reg,X,y, scoring='neg_mean_absolute_error', cv=10)\n",
        "lin_mae_mean = (-lin_mae_cv_score).mean()\n",
        "lin_mae_std = (-lin_mae_cv_score).std()\n",
        "print(f'mean_absolte_error {lin_mae_mean} with std of {lin_mae_std}')\n",
        "\n",
        "#cv get r2 score\n",
        "lin_r2_score = cross_val_score(lin_reg,X,y, scoring='r2', cv=10)\n",
        "lin_r2_mean=lin_r2_score.mean()\n",
        "lin_r2_std = lin_r2_score.std()\n",
        "print(f'R2 score is {lin_r2_mean} with std of {lin_r2_std}')\n",
        "\n"
      ],
      "execution_count": null,
      "outputs": [
        {
          "output_type": "stream",
          "text": [
            "Linear regression\n",
            "Root_mean_squared-error 447168.6820143734 with std of 59.78240842757854\n",
            "mean_absolte_error 281217.5825645789 with std of 32869.76192205745\n",
            "R2 score is 0.7031423512476958 with std of 0.0677644445248991\n"
          ],
          "name": "stdout"
        }
      ]
    },
    {
      "cell_type": "code",
      "metadata": {
        "id": "Fqg-UDaZNbWL",
        "colab": {
          "base_uri": "https://localhost:8080/",
          "height": 507
        },
        "outputId": "4e6e5d6e-f1c9-404a-dc24-86052ac1219d"
      },
      "source": [
        "#linear regression feature importance\n",
        "importance = lin_reg.coef_\n",
        "#summarize feat ure importance\n",
        "print(importance)\n",
        "features_linear = pd.DataFrame({'Features': features, 'Importance': importance})\n",
        "features_linear.sort_values(by=\"Importance\", axis=0, ascending=False, inplace=True)\n",
        "plt.figure(figsize=[8,6])\n",
        "sns.barplot(y=\"Features\",x=\"Importance\",data=features_linear, orient='h')\n",
        "# features_linear.plot(\n",
        "#     x=\"Features\",\n",
        "#     y=\"Importance\",\n",
        "#     kind=\"bar\",\n",
        "#     figsize=(8, 8),\n",
        "#     title=\"Feature Importance\",\n",
        "#     logy=True,\n",
        "# )\n",
        "plt.title('Linear Regression')\n",
        "plt.show()"
      ],
      "execution_count": null,
      "outputs": [
        {
          "output_type": "stream",
          "text": [
            "[  54623.10350242  450032.12925094    8436.35074385 -143114.29882233\n",
            "   47593.09218496   10536.92434692  144711.34261554  -44986.5272122\n",
            "   58553.00017168  -13928.1443317   -49365.69923357 -100576.60667572\n",
            "   -8403.97548623   25421.9900436    62901.95617195  -76940.85547314\n",
            "  135839.25786747  -77736.1882955   -17456.86545177 -199694.80800038\n",
            "   12351.81342995  344560.73328024   60143.39928994 -122168.08425248]\n"
          ],
          "name": "stdout"
        },
        {
          "output_type": "display_data",
          "data": {
            "image/png": "[encoded data removed]",
            "text/plain": [
              "<Figure size 576x432 with 1 Axes>"
            ]
          },
          "metadata": {
            "tags": [],
            "needs_background": "light"
          }
        }
      ]
    },
    {
      "cell_type": "markdown",
      "metadata": {
        "id": "e4TWn-1_X6fn"
      },
      "source": [
        "Random Forest"
      ]
    },
    {
      "cell_type": "code",
      "metadata": {
        "id": "7qo7KF0bNzdN",
        "colab": {
          "base_uri": "https://localhost:8080/"
        },
        "outputId": "ecfdbd16-7a3c-4776-fa82-0276305cfe0b"
      },
      "source": [
        "from sklearn.ensemble import RandomForestRegressor\n",
        "forest_reg = RandomForestRegressor(random_state=42)\n",
        "forest_reg.fit(X, y)\n",
        "\n",
        "#cv get negative mean squared error\n",
        "forest_scores = cross_val_score(forest_reg,X,y, scoring='neg_mean_squared_error', cv=10)\n",
        "forest_scores_root = np.sqrt(-forest_scores)\n",
        "forest_mse_mean = forest_scores_root.mean()\n",
        "forest_mse_std = np.sqrt(forest_scores_root).std()\n",
        "print('Random Forest')\n",
        "print(f'Root_mean_squared-error {forest_mse_mean} with std of {forest_mse_std}')\n",
        "\n",
        "#cv get r2 score\n",
        "forest_r2_score = cross_val_score(forest_reg,X,y, scoring='r2', cv=10)\n",
        "forest_r2_mean=forest_r2_score.mean()\n",
        "forest_r2_std = forest_r2_score.std()\n",
        "print(f'R2 score is {forest_r2_mean} with std of {forest_r2_std}')"
      ],
      "execution_count": null,
      "outputs": [
        {
          "output_type": "stream",
          "text": [
            "Random Forest\n",
            "Root_mean_squared-error 393289.6420252363 with std of 54.4281779206125\n",
            "R2 score is 0.7633769649828375 with std of 0.08075336264909565\n"
          ],
          "name": "stdout"
        }
      ]
    },
    {
      "cell_type": "code",
      "metadata": {
        "id": "lA4xIfQBdQ6B",
        "colab": {
          "base_uri": "https://localhost:8080/",
          "height": 507
        },
        "outputId": "0ab331e1-5ecc-4db2-9cbc-ea7005c3b58c"
      },
      "source": [
        "#Random Forest regression feature importance\n",
        "importance_forest = forest_reg.feature_importances_\n",
        "#summarize feat ure importance\n",
        "print(importance_forest)\n",
        "features_forest = pd.DataFrame({'Features': features, 'Importance': forest_reg.feature_importances_})\n",
        "features_forest.sort_values(by=\"Importance\", axis=0, ascending=False, inplace=True)\n",
        "plt.figure(figsize=[8,6])\n",
        "sns.barplot(y=\"Features\",x=\"Importance\",data=features_forest, orient='h')\n",
        "plt.title('Random Forest')\n",
        "plt.show()"
      ],
      "execution_count": null,
      "outputs": [
        {
          "output_type": "stream",
          "text": [
            "[2.88909769e-02 4.89170735e-01 2.83915884e-02 3.64507545e-02\n",
            " 9.72850306e-03 4.95455680e-03 1.50237041e-01 6.58147136e-03\n",
            " 8.36495240e-03 4.88919864e-03 4.07707193e-02 9.30119407e-03\n",
            " 5.55900082e-03 9.03372157e-03 3.56654158e-02 7.59527558e-03\n",
            " 5.85342723e-02 5.11106918e-03 9.50342241e-04 9.04420372e-06\n",
            " 9.41696031e-04 5.29465608e-02 3.31576874e-03 2.60614122e-03]\n"
          ],
          "name": "stdout"
        },
        {
          "output_type": "display_data",
          "data": {
            "image/png": "[encoded data removed]",
            "text/plain": [
              "<Figure size 576x432 with 1 Axes>"
            ]
          },
          "metadata": {
            "tags": [],
            "needs_background": "light"
          }
        }
      ]
    },
    {
      "cell_type": "markdown",
      "metadata": {
        "id": "sLIBJKT7uLct"
      },
      "source": [
        "Decision Tree"
      ]
    },
    {
      "cell_type": "code",
      "metadata": {
        "id": "wRCLxpE1uSYl",
        "colab": {
          "base_uri": "https://localhost:8080/"
        },
        "outputId": "ecc92d41-052b-439f-cdf9-29e4535f8f88"
      },
      "source": [
        "from sklearn.tree import DecisionTreeRegressor\n",
        "\n",
        "tree_reg = DecisionTreeRegressor(random_state=42)\n",
        "tree_reg.fit(X,y)\n",
        "\n",
        "#cv get negative mean squared error\n",
        "tree_scores = cross_val_score(tree_reg,X,y, scoring='neg_mean_squared_error', cv=10)\n",
        "tree_scores_root = np.sqrt(-tree_scores)\n",
        "tree_mse_mean = tree_scores_root.mean()\n",
        "tree_mse_std = np.sqrt(tree_scores_root).std()\n",
        "print('Decision Tree')\n",
        "print(f'Root_mean_squared-error {tree_mse_mean} with std of {tree_mse_std}')\n",
        "\n",
        "#cv get r2 score\n",
        "tree_r2_score = cross_val_score(tree_reg,X,y, scoring='r2', cv=10)\n",
        "tree_r2_mean=tree_r2_score.mean()\n",
        "tree_r2_std = tree_r2_score.std()\n",
        "print(f'R2 score is {tree_r2_mean} with std of {tree_r2_std}')\n"
      ],
      "execution_count": null,
      "outputs": [
        {
          "output_type": "stream",
          "text": [
            "Decision Tree\n",
            "Root_mean_squared-error 511281.97202392714 with std of 64.04473047689198\n",
            "R2 score is 0.5970999169488922 with std of 0.1471795410679777\n"
          ],
          "name": "stdout"
        }
      ]
    },
    {
      "cell_type": "markdown",
      "metadata": {
        "id": "UIW5H-nvH5Mk"
      },
      "source": [
        "SVR\n"
      ]
    },
    {
      "cell_type": "code",
      "metadata": {
        "id": "kCfOo54UWy15",
        "colab": {
          "base_uri": "https://localhost:8080/"
        },
        "outputId": "0e7b93e6-cfcf-4f6e-8bbd-c8db1cc6d4c3"
      },
      "source": [
        "from sklearn.svm import SVR\n",
        "svm_reg = SVR(kernel='linear')\n",
        "svm_reg.fit(X,y)\n",
        "\n",
        "#cv get negative mean squared error\n",
        "svm_scores = cross_val_score(svm_reg,X,y, scoring='neg_mean_squared_error', cv=10)\n",
        "svm_scores_root = np.sqrt(-svm_scores)\n",
        "svm_mse_mean = svm_scores_root.mean()\n",
        "svm_mse_std = np.sqrt(svm_scores_root).std()\n",
        "print('SVM')\n",
        "print(f'Root_mean_squared-error {svm_mse_mean} with std of {svm_mse_std}')\n",
        "\n",
        "#cv get r2 score\n",
        "svm_r2_score = cross_val_score(svm_reg,X,y, scoring='r2', cv=10)\n",
        "svm_r2_mean=svm_r2_score.mean()\n",
        "svm_r2_std = svm_r2_score.std()\n",
        "print(f'R2 score is {svm_r2_mean} with std of {svm_r2_std}')\n"
      ],
      "execution_count": null,
      "outputs": [
        {
          "output_type": "stream",
          "text": [
            "SVM\n",
            "Root_mean_squared-error 863966.7199123831 with std of 85.86567217698808\n",
            "R2 score is -0.07571360689641678 with std of 0.031507947472741056\n"
          ],
          "name": "stdout"
        }
      ]
    },
    {
      "cell_type": "markdown",
      "metadata": {
        "id": "W0s2HRLU27uR"
      },
      "source": [
        "KNN"
      ]
    },
    {
      "cell_type": "code",
      "metadata": {
        "id": "RigoCQ9k29Pd",
        "colab": {
          "base_uri": "https://localhost:8080/"
        },
        "outputId": "f5a188bb-f246-403f-c8ec-1c459df268ce"
      },
      "source": [
        "from sklearn.neighbors import KNeighborsRegressor\n",
        "neigh_reg = KNeighborsRegressor()\n",
        "neigh_reg.fit(X, y)\n",
        "\n",
        "#cv get negative mean squared error\n",
        "neigh_scores = cross_val_score(neigh_reg,X,y, scoring='neg_mean_squared_error', cv=10)\n",
        "neigh_scores_root = np.sqrt(-svm_scores)\n",
        "neigh_rmse_mean = neigh_scores_root.mean()\n",
        "neigh_rmse_std = np.sqrt(neigh_scores_root).std()\n",
        "print('KNN')\n",
        "print(f'Root_mean_squared-error {neigh_rmse_mean} with std of {neigh_rmse_std}')\n",
        "\n",
        "#CV get r2\n",
        "neigh_r2_score = cross_val_score(neigh_reg,X,y, scoring='r2', cv=10)\n",
        "neigh_r2_mean=neigh_r2_score.mean()\n",
        "neigh_r2_std = neigh_r2_score.std()\n",
        "print(f'R2 score is {neigh_r2_mean} with std of {neigh_r2_std}')"
      ],
      "execution_count": null,
      "outputs": [
        {
          "output_type": "stream",
          "text": [
            "KNN\n",
            "Root_mean_squared-error 863966.7199123831 with std of 85.86567217698808\n",
            "R2 score is 0.6057008136993639 with std of 0.11097619833888273\n"
          ],
          "name": "stdout"
        }
      ]
    },
    {
      "cell_type": "markdown",
      "metadata": {
        "id": "wsl4KJ756v0H"
      },
      "source": [
        "xgboost\n",
        "\n",
        "\n",
        "* \n",
        "Ensembles are constructed from decision tree models. Trees are added one at a time to the ensemble and fit to correct the prediction errors made by prior models. This is a type of ensemble machine learning model referred to as boosting.\n",
        "\n"
      ]
    },
    {
      "cell_type": "code",
      "metadata": {
        "id": "ndMUZBaQ61Rf",
        "colab": {
          "base_uri": "https://localhost:8080/"
        },
        "outputId": "d1c2f3e5-1e49-40fb-a913-e1e41ce5da10"
      },
      "source": [
        "import xgboost as xgb\n",
        "xgb_reg = xgb.XGBRegressor(objective='reg:squarederror',random_state=42) #NOTE:not specify the “objective” hyperparameter, the XGBRegressor will automatically choose this objective function for you.\n",
        "xgb_reg.fit(X,y)\n",
        "\n",
        "#cv get negative mean squared error\n",
        "xgb_scores = cross_val_score(xgb_reg,X,y, scoring='neg_mean_squared_error', cv=10)\n",
        "xgb_scores_root = np.sqrt(-xgb_scores)\n",
        "xgb_rmse_mean = xgb_scores_root.mean()\n",
        "xgb_rmse_std = np.sqrt(xgb_scores_root).std()\n",
        "print('XGB')\n",
        "print(f'Root_mean_squared-error {xgb_rmse_mean} with std of {xgb_rmse_std}')\n",
        "\n",
        "#cv get negative mean squared error\n",
        "xgb_r2_scores = cross_val_score(xgb_reg,X,y, scoring='r2', cv=10)\n",
        "xgb_r2_mean = xgb_r2_scores.mean()\n",
        "xgb_r2_std = xgb_r2_scores.std()\n",
        "print('XGB r2')\n",
        "xgb_r2_std = xgb_r2_scores.std()\n",
        "print(f'Root_mean_squared-error {xgb_r2_mean} with std of {xgb_rmse_std}')"
      ],
      "execution_count": null,
      "outputs": [
        {
          "output_type": "stream",
          "text": [
            "XGB\n",
            "Root_mean_squared-error 367723.7512087171 with std of 70.95558064724366\n",
            "XGB r2\n",
            "Root_mean_squared-error 0.7903837764294347 with std of 70.95558064724366\n"
          ],
          "name": "stdout"
        }
      ]
    },
    {
      "cell_type": "code",
      "metadata": {
        "id": "4QwO4WkZ7cpx",
        "colab": {
          "base_uri": "https://localhost:8080/",
          "height": 404
        },
        "outputId": "d9b9185c-944a-48f1-837d-639dc9bfa648"
      },
      "source": [
        "# feature importance\n",
        "importance_xgb = xgb_reg.feature_importances_\n",
        "#summarize feat ure importance\n",
        "\n",
        "features_xgb = pd.DataFrame({'Features': features, 'Importance': importance_xgb})\n",
        "features_xgb.sort_values(by=\"Importance\", axis=0, ascending=False, inplace=True)\n",
        "plt.figure(figsize=[8,6])\n",
        "sns.barplot(y=\"Features\",x=\"Importance\",data=features_xgb, orient='h')\n",
        "plt.title('XGB')\n",
        "plt.show()"
      ],
      "execution_count": null,
      "outputs": [
        {
          "output_type": "display_data",
          "data": {
            "image/png": "[encoded data removed]",
            "text/plain": [
              "<Figure size 576x432 with 1 Axes>"
            ]
          },
          "metadata": {
            "tags": [],
            "needs_background": "light"
          }
        }
      ]
    },
    {
      "cell_type": "code",
      "metadata": {
        "id": "u_6YC6V-sf3x"
      },
      "source": [
        "scores=pd.DataFrame()\n",
        "#add linear regression scores to df scores\n",
        "scores.loc[0, \"Linear Regression\"] = lin_mse_mean\n",
        "scores.loc[1, \"Linear Regression\"] = lin_mse_std\n",
        "scores.loc[2, \"Linear Regression\"] = lin_r2_mean\n",
        "scores.loc[3, \"Linear Regression\"] = lin_r2_std\n",
        "\n",
        "#Random Forest scores\n",
        "scores.loc[0, \"Random Forest\"] = forest_mse_mean\n",
        "scores.loc[1, \"Random Forest\"] = forest_mse_std\n",
        "scores.loc[2, \"Random Forest\"] = forest_r2_mean\n",
        "scores.loc[3, \"Random Forest\"] = forest_r2_std\n",
        "\n",
        "#Decision Tree\n",
        "scores.loc[0, \"Decision Tree\"] = tree_mse_mean\n",
        "scores.loc[1, \"Decision Tree\"] = tree_mse_std\n",
        "scores.loc[2, \"Decision Tree\"] = tree_r2_mean\n",
        "scores.loc[3, \"Decision Tree\"] = tree_r2_std\n",
        "\n",
        "#SVM\n",
        "scores.loc[0, \"SVR\"] = svm_mse_mean\n",
        "scores.loc[1, \"SVR\"] = svm_mse_std\n",
        "scores.loc[2, \"SVR\"] = svm_r2_mean\n",
        "scores.loc[3, \"SVR\"] = svm_r2_std\n",
        "\n",
        "#KNN\n",
        "scores.loc[0, \"KNN\"] = neigh_rmse_mean\n",
        "scores.loc[1, \"KNN\"] = neigh_rmse_std\n",
        "scores.loc[2, \"KNN\"] = neigh_r2_mean\n",
        "scores.loc[3, \"KNN\"] = neigh_r2_std\n",
        "\n",
        "#xgb\n",
        "scores.loc[0, \"XGB\"] = xgb_rmse_mean\n",
        "scores.loc[1, \"XGB\"] = xgb_rmse_std\n",
        "scores.loc[2, \"XGB\"] = xgb_r2_mean\n",
        "scores.loc[3, \"XGB\"] = xgb_r2_std\n"
      ],
      "execution_count": null,
      "outputs": []
    },
    {
      "cell_type": "code",
      "metadata": {
        "colab": {
          "base_uri": "https://localhost:8080/",
          "height": 237
        },
        "id": "qlUnOCJrs3BH",
        "outputId": "3527488c-2ec9-4dd5-923b-e4ae9bf1b1be"
      },
      "source": [
        "score_tranposed = scores.T\n",
        "score_tranposed.columns=['RMSE','RMSE std','R2','R2 std']\n",
        "score_tranposed"
      ],
      "execution_count": null,
      "outputs": [
        {
          "output_type": "execute_result",
          "data": {
            "text/html": [
              "<div>\n",
              "<style scoped>\n",
              "    .dataframe tbody tr th:only-of-type {\n",
              "        vertical-align: middle;\n",
              "    }\n",
              "\n",
              "    .dataframe tbody tr th {\n",
              "        vertical-align: top;\n",
              "    }\n",
              "\n",
              "    .dataframe thead th {\n",
              "        text-align: right;\n",
              "    }\n",
              "</style>\n",
              "<table border=\"1\" class=\"dataframe\">\n",
              "  <thead>\n",
              "    <tr style=\"text-align: right;\">\n",
              "      <th></th>\n",
              "      <th>RMSE</th>\n",
              "      <th>RMSE std</th>\n",
              "      <th>R2</th>\n",
              "      <th>R2 std</th>\n",
              "    </tr>\n",
              "  </thead>\n",
              "  <tbody>\n",
              "    <tr>\n",
              "      <th>Linear Regression</th>\n",
              "      <td>447168.682014</td>\n",
              "      <td>59.782408</td>\n",
              "      <td>0.703142</td>\n",
              "      <td>0.067764</td>\n",
              "    </tr>\n",
              "    <tr>\n",
              "      <th>Random Forest</th>\n",
              "      <td>393289.642025</td>\n",
              "      <td>54.428178</td>\n",
              "      <td>0.763377</td>\n",
              "      <td>0.080753</td>\n",
              "    </tr>\n",
              "    <tr>\n",
              "      <th>Decision Tree</th>\n",
              "      <td>511281.972024</td>\n",
              "      <td>64.044730</td>\n",
              "      <td>0.597100</td>\n",
              "      <td>0.147180</td>\n",
              "    </tr>\n",
              "    <tr>\n",
              "      <th>SVR</th>\n",
              "      <td>863966.719912</td>\n",
              "      <td>85.865672</td>\n",
              "      <td>-0.075714</td>\n",
              "      <td>0.031508</td>\n",
              "    </tr>\n",
              "    <tr>\n",
              "      <th>KNN</th>\n",
              "      <td>863966.719912</td>\n",
              "      <td>85.865672</td>\n",
              "      <td>0.605701</td>\n",
              "      <td>0.110976</td>\n",
              "    </tr>\n",
              "    <tr>\n",
              "      <th>XGB</th>\n",
              "      <td>367723.751209</td>\n",
              "      <td>70.955581</td>\n",
              "      <td>0.790384</td>\n",
              "      <td>0.083599</td>\n",
              "    </tr>\n",
              "  </tbody>\n",
              "</table>\n",
              "</div>"
            ],
            "text/plain": [
              "                            RMSE   RMSE std        R2    R2 std\n",
              "Linear Regression  447168.682014  59.782408  0.703142  0.067764\n",
              "Random Forest      393289.642025  54.428178  0.763377  0.080753\n",
              "Decision Tree      511281.972024  64.044730  0.597100  0.147180\n",
              "SVR                863966.719912  85.865672 -0.075714  0.031508\n",
              "KNN                863966.719912  85.865672  0.605701  0.110976\n",
              "XGB                367723.751209  70.955581  0.790384  0.083599"
            ]
          },
          "metadata": {
            "tags": []
          },
          "execution_count": 75
        }
      ]
    },
    {
      "cell_type": "markdown",
      "metadata": {
        "id": "RaM4mBeXZLNs"
      },
      "source": [
        "Fine- tune the model\n",
        "\n",
        "\n",
        "*   Random Search\n",
        "\n",
        "\n"
      ]
    },
    {
      "cell_type": "code",
      "metadata": {
        "id": "hf71id0VZXrb"
      },
      "source": [
        "# from sklearn.model_selection import cross_val_score\n",
        "# model_list = [lin_reg, forest_reg]\n",
        "# for m in model_list:\n",
        "#   scores = cross_val_score(m,X,y, scoring='neg_mean_squared_error', cv=10)\n",
        "#   print(f'{m} root_mean_quared_error is {np.sqrt(-scores)}')\n"
      ],
      "execution_count": null,
      "outputs": []
    },
    {
      "cell_type": "code",
      "metadata": {
        "id": "LOl9o5QBq4yU",
        "colab": {
          "base_uri": "https://localhost:8080/"
        },
        "outputId": "90da6682-53ae-4d6c-ec69-051fa93130e6"
      },
      "source": [
        "from sklearn.model_selection import RandomizedSearchCV\n",
        "from scipy.stats import randint\n",
        "\n",
        "param_distribs = {\n",
        "        'n_estimators': randint(low=1, high=200),\n",
        "        'max_features': randint(low=1, high=28),\n",
        "    }\n",
        "\n",
        "\n",
        "rnd_search = RandomizedSearchCV(forest_reg, param_distributions=param_distribs,\n",
        "                                n_iter=10, cv=5, scoring='neg_mean_squared_error', random_state=42)\n",
        "rnd_search.fit(X, y)"
      ],
      "execution_count": null,
      "outputs": [
        {
          "output_type": "stream",
          "text": [
            "/usr/local/lib/python3.7/dist-packages/sklearn/model_selection/_validation.py:536: FitFailedWarning: Estimator fit failed. The score on this train-test partition for these parameters will be set to nan. Details: \n",
            "ValueError: max_features must be in (0, n_features]\n",
            "\n",
            "  FitFailedWarning)\n",
            "/usr/local/lib/python3.7/dist-packages/sklearn/model_selection/_validation.py:536: FitFailedWarning: Estimator fit failed. The score on this train-test partition for these parameters will be set to nan. Details: \n",
            "ValueError: max_features must be in (0, n_features]\n",
            "\n",
            "  FitFailedWarning)\n",
            "/usr/local/lib/python3.7/dist-packages/sklearn/model_selection/_validation.py:536: FitFailedWarning: Estimator fit failed. The score on this train-test partition for these parameters will be set to nan. Details: \n",
            "ValueError: max_features must be in (0, n_features]\n",
            "\n",
            "  FitFailedWarning)\n",
            "/usr/local/lib/python3.7/dist-packages/sklearn/model_selection/_validation.py:536: FitFailedWarning: Estimator fit failed. The score on this train-test partition for these parameters will be set to nan. Details: \n",
            "ValueError: max_features must be in (0, n_features]\n",
            "\n",
            "  FitFailedWarning)\n",
            "/usr/local/lib/python3.7/dist-packages/sklearn/model_selection/_validation.py:536: FitFailedWarning: Estimator fit failed. The score on this train-test partition for these parameters will be set to nan. Details: \n",
            "ValueError: max_features must be in (0, n_features]\n",
            "\n",
            "  FitFailedWarning)\n"
          ],
          "name": "stderr"
        },
        {
          "output_type": "execute_result",
          "data": {
            "text/plain": [
              "RandomizedSearchCV(cv=5, error_score=nan,\n",
              "                   estimator=RandomForestRegressor(bootstrap=True,\n",
              "                                                   ccp_alpha=0.0,\n",
              "                                                   criterion='mse',\n",
              "                                                   max_depth=None,\n",
              "                                                   max_features='auto',\n",
              "                                                   max_leaf_nodes=None,\n",
              "                                                   max_samples=None,\n",
              "                                                   min_impurity_decrease=0.0,\n",
              "                                                   min_impurity_split=None,\n",
              "                                                   min_samples_leaf=1,\n",
              "                                                   min_samples_split=2,\n",
              "                                                   min_weight_fraction_leaf=0.0,\n",
              "                                                   n_estimators=100,\n",
              "                                                   n_jobs=None, oob_score=Fals...\n",
              "                                                   warm_start=False),\n",
              "                   iid='deprecated', n_iter=10, n_jobs=None,\n",
              "                   param_distributions={'max_features': <scipy.stats._distn_infrastructure.rv_frozen object at 0x7f5914473810>,\n",
              "                                        'n_estimators': <scipy.stats._distn_infrastructure.rv_frozen object at 0x7f5914738c90>},\n",
              "                   pre_dispatch='2*n_jobs', random_state=42, refit=True,\n",
              "                   return_train_score=False, scoring='neg_mean_squared_error',\n",
              "                   verbose=0)"
            ]
          },
          "metadata": {
            "tags": []
          },
          "execution_count": 49
        }
      ]
    },
    {
      "cell_type": "code",
      "metadata": {
        "id": "7EH5aMcQrOpR",
        "colab": {
          "base_uri": "https://localhost:8080/"
        },
        "outputId": "ed16eb3a-942f-42bd-9f01-4ddb2c059fed"
      },
      "source": [
        "rnd_search.best_params_"
      ],
      "execution_count": null,
      "outputs": [
        {
          "output_type": "execute_result",
          "data": {
            "text/plain": [
              "{'max_features': 21, 'n_estimators': 100}"
            ]
          },
          "metadata": {
            "tags": []
          },
          "execution_count": 50
        }
      ]
    },
    {
      "cell_type": "code",
      "metadata": {
        "id": "mKBYQJ9qwuvS",
        "colab": {
          "base_uri": "https://localhost:8080/"
        },
        "outputId": "04782753-8b06-469c-cb82-8a12d822e2b5"
      },
      "source": [
        "cvrnd = rnd_search.cv_results_\n",
        "for mean_score, params in zip(cvrnd[\"mean_test_score\"], cvrnd[\"params\"]):\n",
        "    print(np.sqrt(-mean_score), params)"
      ],
      "execution_count": null,
      "outputs": [
        {
          "output_type": "stream",
          "text": [
            "407169.31345022377 {'max_features': 7, 'n_estimators': 180}\n",
            "386290.70066058286 {'max_features': 15, 'n_estimators': 107}\n",
            "407151.14204654976 {'max_features': 8, 'n_estimators': 189}\n",
            "380557.93911810906 {'max_features': 21, 'n_estimators': 103}\n",
            "nan {'max_features': 26, 'n_estimators': 75}\n",
            "390730.3023967618 {'max_features': 11, 'n_estimators': 88}\n",
            "380114.8119642702 {'max_features': 21, 'n_estimators': 100}\n",
            "409598.09462163696 {'max_features': 8, 'n_estimators': 152}\n",
            "446687.57969854365 {'max_features': 3, 'n_estimators': 150}\n",
            "443219.7439371753 {'max_features': 21, 'n_estimators': 2}\n"
          ],
          "name": "stdout"
        }
      ]
    },
    {
      "cell_type": "code",
      "metadata": {
        "id": "Duf81PygwlXW",
        "colab": {
          "base_uri": "https://localhost:8080/"
        },
        "outputId": "086f63d8-3b21-4266-ae96-510e9e63b511"
      },
      "source": [
        "forest_reg_tuned =rnd_search.best_estimator_\n",
        "# forest_reg_tuned = RandomForestRegressor(grid_search.best_estimator_)\n",
        "\n",
        "forest_reg_tuned.fit(X, y)\n",
        "\n",
        "#cv get negative mean squared error\n",
        "forest_scores_tuned = cross_val_score(forest_reg_tuned,X,y, scoring='neg_mean_squared_error', cv=10)\n",
        "forest_scores_root_tuned = np.sqrt(-forest_scores_tuned)\n",
        "forest_mse_mean_tuned = forest_scores_root_tuned.mean()\n",
        "forest_mse_std_tuned = np.sqrt(forest_scores_root_tuned).std()\n",
        "print('Random Forest_tuned')\n",
        "print(f'Root_mean_squared-error {forest_mse_mean_tuned} with std of {forest_mse_std_tuned}')\n",
        "\n",
        "#cv get r2 score\n",
        "forest_r2_score_tuned = cross_val_score(forest_reg_tuned,X,y, scoring='r2', cv=10)\n",
        "forest_r2_mean_tuned=forest_r2_score_tuned.mean()\n",
        "forest_r2_std_tuned = forest_r2_score_tuned.std()\n",
        "print(f'R2 score is {forest_r2_mean_tuned} with std of {forest_r2_std_tuned}')"
      ],
      "execution_count": null,
      "outputs": [
        {
          "output_type": "stream",
          "text": [
            "Random Forest_tuned\n",
            "Root_mean_squared-error 388050.3977497809 with std of 57.610897908621745\n",
            "R2 score is 0.7715602264538034 with std of 0.07573430683102171\n"
          ],
          "name": "stdout"
        }
      ]
    },
    {
      "cell_type": "code",
      "metadata": {
        "id": "0WGP0GPprNK3",
        "colab": {
          "base_uri": "https://localhost:8080/"
        },
        "outputId": "2ea90451-c388-4aaf-b3cc-ada7356fed20"
      },
      "source": [
        "#apply model on test data set\n",
        "X_test = strat_test_set.drop('sold-price', axis=1)\n",
        "y_test = strat_test_set['sold-price'].copy()\n",
        "X_test_prepared = full_pipeline.transform(X_test)\n",
        "\n",
        "final_predictions = forest_reg_tuned.predict(X_test_prepared)\n",
        "\n",
        "final_mse = mean_squared_error(y_test, final_predictions)\n",
        "final_rmse = np.sqrt(final_mse)   # => evaluates to 47,730.2\n",
        "final_rmse\n",
        "\n"
      ],
      "execution_count": null,
      "outputs": [
        {
          "output_type": "execute_result",
          "data": {
            "text/plain": [
              "341631.7438060629"
            ]
          },
          "metadata": {
            "tags": []
          },
          "execution_count": 53
        }
      ]
    },
    {
      "cell_type": "code",
      "metadata": {
        "id": "NanSFNw7w9ZB",
        "colab": {
          "base_uri": "https://localhost:8080/"
        },
        "outputId": "4acec9cf-ed76-453f-8a24-848c0ca45775"
      },
      "source": [
        "#compute a 95% confidence interval for the test RMSE:\n",
        "from scipy import stats\n",
        "\n",
        "confidence = 0.95\n",
        "squared_errors = (final_predictions - y_test) ** 2\n",
        "ci_forest=np.sqrt(stats.t.interval(confidence, len(squared_errors) - 1,\n",
        "                         loc=squared_errors.mean(),\n",
        "                         scale=stats.sem(squared_errors)))\n",
        "ci_forest"
      ],
      "execution_count": null,
      "outputs": [
        {
          "output_type": "execute_result",
          "data": {
            "text/plain": [
              "array([272419.35326544, 399014.02571637])"
            ]
          },
          "metadata": {
            "tags": []
          },
          "execution_count": 93
        }
      ]
    },
    {
      "cell_type": "markdown",
      "metadata": {
        "id": "3DrjSl1l8GQK"
      },
      "source": [
        "XGBoosting Hyperparameter tunning\n"
      ]
    },
    {
      "cell_type": "code",
      "metadata": {
        "id": "lwjUa2_k8Jo3",
        "colab": {
          "base_uri": "https://localhost:8080/"
        },
        "outputId": "b03454a1-b05d-455f-cc14-7323314e9c96"
      },
      "source": [
        "xgb_search = RandomizedSearchCV(xgb_reg, param_distributions=param_distribs,\n",
        "                                n_iter=10, cv=5, scoring='neg_mean_squared_error', random_state=42)\n",
        "xgb_search.fit(X, y)"
      ],
      "execution_count": null,
      "outputs": [
        {
          "output_type": "execute_result",
          "data": {
            "text/plain": [
              "RandomizedSearchCV(cv=5, error_score=nan,\n",
              "                   estimator=XGBRegressor(base_score=0.5, booster='gbtree',\n",
              "                                          colsample_bylevel=1,\n",
              "                                          colsample_bynode=1,\n",
              "                                          colsample_bytree=1, gamma=0,\n",
              "                                          importance_type='gain',\n",
              "                                          learning_rate=0.1, max_delta_step=0,\n",
              "                                          max_depth=3, min_child_weight=1,\n",
              "                                          missing=None, n_estimators=100,\n",
              "                                          n_jobs=1, nthread=None,\n",
              "                                          objective='reg:squarederror',\n",
              "                                          random_state=42, reg...\n",
              "                                          verbosity=1),\n",
              "                   iid='deprecated', n_iter=10, n_jobs=None,\n",
              "                   param_distributions={'max_features': <scipy.stats._distn_infrastructure.rv_frozen object at 0x7f5914473810>,\n",
              "                                        'n_estimators': <scipy.stats._distn_infrastructure.rv_frozen object at 0x7f5914738c90>},\n",
              "                   pre_dispatch='2*n_jobs', random_state=42, refit=True,\n",
              "                   return_train_score=False, scoring='neg_mean_squared_error',\n",
              "                   verbose=0)"
            ]
          },
          "metadata": {
            "tags": []
          },
          "execution_count": 55
        }
      ]
    },
    {
      "cell_type": "code",
      "metadata": {
        "id": "-3RgMQYoRzsn",
        "colab": {
          "base_uri": "https://localhost:8080/"
        },
        "outputId": "105a5d05-cb9e-4d7b-fd09-b8418bd9b3ba"
      },
      "source": [
        "xgb_reg_tuned =xgb_search.best_estimator_\n",
        "xgb_reg_tuned.fit(X,y)\n",
        "\n",
        "#cv get negative mean squared error\n",
        "xgb_tuned_scores = cross_val_score(xgb_reg_tuned,X,y, scoring='neg_mean_squared_error', cv=10)\n",
        "xgb_tuned_scores_root = np.sqrt(-xgb_tuned_scores)\n",
        "xgb_tuned_rmse_mean = xgb_tuned_scores_root.mean()\n",
        "xgb_tuned_rmse_std = np.sqrt(xgb_tuned_scores_root).std()\n",
        "print('XGB tunned')\n",
        "print(f'Root_mean_squared-error {xgb_tuned_rmse_mean} with std of {xgb_tuned_rmse_std}')\n",
        "\n",
        "#cv get r2\n",
        "xgb_r2_tuned_scores = cross_val_score(xgb_reg_tuned,X,y, scoring='r2', cv=10)\n",
        "xgb_r2_tuned_mean = xgb_r2_tuned_scores.mean()\n",
        "\n",
        "print('XGB tunned r2')\n",
        "xgb_r2_tuned_std = xgb_r2_tuned_scores.std()\n",
        "print(f'Root_mean_squared-error {xgb_r2_tuned_mean} with std of {xgb_r2_tuned_std}')"
      ],
      "execution_count": null,
      "outputs": [
        {
          "output_type": "stream",
          "text": [
            "XGB tunned\n",
            "Root_mean_squared-error 367263.68081154115 with std of 65.50914305468226\n",
            "XGB tunned r2\n",
            "Root_mean_squared-error 0.789859580122628 with std of 0.08127509343441776\n"
          ],
          "name": "stdout"
        }
      ]
    },
    {
      "cell_type": "code",
      "metadata": {
        "id": "kBdhh_iLSpiE",
        "colab": {
          "base_uri": "https://localhost:8080/"
        },
        "outputId": "bdd551f3-4ef2-4783-9ec3-7998fbb45911"
      },
      "source": [
        "#tunned xgb on test data\n",
        "final_xgb_predictions = xgb_reg_tuned.predict(X_test_prepared)\n",
        "\n",
        "final_xgb_mse = mean_squared_error(y_test, final_xgb_predictions)\n",
        "final_xgb_rmse = np.sqrt(final_xgb_mse)   \n",
        "final_xgb_rmse"
      ],
      "execution_count": null,
      "outputs": [
        {
          "output_type": "execute_result",
          "data": {
            "text/plain": [
              "324247.99201351864"
            ]
          },
          "metadata": {
            "tags": []
          },
          "execution_count": 57
        }
      ]
    },
    {
      "cell_type": "code",
      "metadata": {
        "colab": {
          "base_uri": "https://localhost:8080/"
        },
        "id": "10Wc7BaM0bm9",
        "outputId": "1aa2819f-7682-41e7-f20a-c4b0df053207"
      },
      "source": [
        "#compute a 95% confidence interval for the test RMSE:\n",
        "from scipy import stats\n",
        "\n",
        "confidence = 0.95\n",
        "squared_errors_xgb = (final_xgb_predictions - y_test) ** 2\n",
        "ci_xgb=np.sqrt(stats.t.interval(confidence, len(squared_errors_xgb) - 1,\n",
        "                         loc=squared_errors_xgb.mean(),\n",
        "                         scale=stats.sem(squared_errors_xgb)))\n",
        "ci_xgb"
      ],
      "execution_count": null,
      "outputs": [
        {
          "output_type": "execute_result",
          "data": {
            "text/plain": [
              "array([241309.7912361 , 389927.05125855])"
            ]
          },
          "metadata": {
            "tags": []
          },
          "execution_count": 94
        }
      ]
    },
    {
      "cell_type": "code",
      "metadata": {
        "id": "BZojcOx1yR-1"
      },
      "source": [
        "tuned_score = pd.DataFrame()\n",
        "#Random Forest scores\n",
        "tuned_score.loc[0, \"Random Forest\"] = forest_mse_mean #original score on train\n",
        "tuned_score.loc[1, \"Random Forest\"] = forest_r2_mean #original score on train data\n",
        "tuned_score.loc[2, \"Random Forest\"] = forest_mse_mean_tuned#tuned model score on train dataset\n",
        "tuned_score.loc[3, \"Random Forest\"] = forest_r2_mean_tuned #tuned model score on train dataset\n",
        "tuned_score.loc[4, \"Random Forest\"] = final_rmse#tuned score on testdataset\n",
        "# tuned_score.loc[5, \"Random Forest\"] = ci_forest #testdataset confidence interval\n",
        "#xgb\n",
        "tuned_score.loc[0, \"XGB\"] = xgb_rmse_mean\n",
        "tuned_score.loc[1, \"XGB\"] = xgb_r2_mean\n",
        "tuned_score.loc[2, \"XGB\"] = xgb_tuned_rmse_mean\n",
        "tuned_score.loc[3, \"XGB\"] = xgb_r2_tuned_mean\n",
        "tuned_score.loc[4, \"XGB\"] = final_xgb_rmse\n",
        "# tuned_score.loc[0, \"XGB\"] = ci_xgb\n"
      ],
      "execution_count": null,
      "outputs": []
    },
    {
      "cell_type": "code",
      "metadata": {
        "colab": {
          "base_uri": "https://localhost:8080/",
          "height": 112
        },
        "id": "fQAvI3NO0t8L",
        "outputId": "872a3ed5-9c7d-474e-a94b-e33cbbf2b602"
      },
      "source": [
        "tuned_score_transposed = tuned_score.T\n",
        "tuned_score_transposed.columns =['Original RMSE', 'Origianl R2', 'Tuned RMSE', 'Tuned R2', 'Tuned RMSE on test data']\n",
        "tuned_score_transposed"
      ],
      "execution_count": null,
      "outputs": [
        {
          "output_type": "execute_result",
          "data": {
            "text/html": [
              "<div>\n",
              "<style scoped>\n",
              "    .dataframe tbody tr th:only-of-type {\n",
              "        vertical-align: middle;\n",
              "    }\n",
              "\n",
              "    .dataframe tbody tr th {\n",
              "        vertical-align: top;\n",
              "    }\n",
              "\n",
              "    .dataframe thead th {\n",
              "        text-align: right;\n",
              "    }\n",
              "</style>\n",
              "<table border=\"1\" class=\"dataframe\">\n",
              "  <thead>\n",
              "    <tr style=\"text-align: right;\">\n",
              "      <th></th>\n",
              "      <th>Original RMSE</th>\n",
              "      <th>Origianl R2</th>\n",
              "      <th>Tuned RMSE</th>\n",
              "      <th>Tuned R2</th>\n",
              "      <th>Tuned RMSE on test data</th>\n",
              "    </tr>\n",
              "  </thead>\n",
              "  <tbody>\n",
              "    <tr>\n",
              "      <th>Random Forest</th>\n",
              "      <td>393289.642025</td>\n",
              "      <td>0.763377</td>\n",
              "      <td>388050.397750</td>\n",
              "      <td>0.77156</td>\n",
              "      <td>341631.743806</td>\n",
              "    </tr>\n",
              "    <tr>\n",
              "      <th>XGB</th>\n",
              "      <td>367723.751209</td>\n",
              "      <td>0.790384</td>\n",
              "      <td>367263.680812</td>\n",
              "      <td>0.78986</td>\n",
              "      <td>324247.992014</td>\n",
              "    </tr>\n",
              "  </tbody>\n",
              "</table>\n",
              "</div>"
            ],
            "text/plain": [
              "               Original RMSE  Origianl R2     Tuned RMSE  Tuned R2  Tuned RMSE on test data\n",
              "Random Forest  393289.642025     0.763377  388050.397750   0.77156            341631.743806\n",
              "XGB            367723.751209     0.790384  367263.680812   0.78986            324247.992014"
            ]
          },
          "metadata": {
            "tags": []
          },
          "execution_count": 92
        }
      ]
    }
  ]
}